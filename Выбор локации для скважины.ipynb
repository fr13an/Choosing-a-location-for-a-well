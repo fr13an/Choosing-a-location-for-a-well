{
 "cells": [
  {
   "cell_type": "markdown",
   "metadata": {},
   "source": [
    "# Выбор локации для скважины"
   ]
  },
  {
   "cell_type": "markdown",
   "metadata": {},
   "source": [
    "## Загрузка и подготовка данных"
   ]
  },
  {
   "cell_type": "markdown",
   "metadata": {},
   "source": [
    "### Библиотеки"
   ]
  },
  {
   "cell_type": "code",
   "execution_count": 1,
   "metadata": {},
   "outputs": [],
   "source": [
    "import pandas as pd\n",
    "import numpy as np\n",
    "import matplotlib.pyplot as plt\n",
    "import seaborn as sns\n",
    "from IPython.display import Markdown, display \n",
    "from scipy.stats import spearmanr\n",
    "\n",
    "from sklearn.metrics import mean_absolute_error\n",
    "from sklearn.model_selection import train_test_split\n",
    "from sklearn.linear_model import LinearRegression\n",
    "from sklearn.metrics import mean_squared_error\n",
    "\n",
    "import warnings\n",
    "warnings.filterwarnings(\"ignore\")\n",
    "\n",
    "plt.rcParams[\"figure.figsize\"] = (15,10)"
   ]
  },
  {
   "cell_type": "markdown",
   "metadata": {},
   "source": [
    "### Загрузка данных"
   ]
  },
  {
   "cell_type": "code",
   "execution_count": 2,
   "metadata": {},
   "outputs": [],
   "source": [
    "geo_data_0 = pd.read_csv('/datasets/geo_data_0.csv')\n",
    "geo_data_1 = pd.read_csv('/datasets/geo_data_1.csv')\n",
    "geo_data_2 = pd.read_csv('/datasets/geo_data_2.csv')"
   ]
  },
  {
   "cell_type": "code",
   "execution_count": 3,
   "metadata": {},
   "outputs": [
    {
     "data": {
      "text/html": [
       "<div>\n",
       "<style scoped>\n",
       "    .dataframe tbody tr th:only-of-type {\n",
       "        vertical-align: middle;\n",
       "    }\n",
       "\n",
       "    .dataframe tbody tr th {\n",
       "        vertical-align: top;\n",
       "    }\n",
       "\n",
       "    .dataframe thead th {\n",
       "        text-align: right;\n",
       "    }\n",
       "</style>\n",
       "<table border=\"1\" class=\"dataframe\">\n",
       "  <thead>\n",
       "    <tr style=\"text-align: right;\">\n",
       "      <th></th>\n",
       "      <th>id</th>\n",
       "      <th>f0</th>\n",
       "      <th>f1</th>\n",
       "      <th>f2</th>\n",
       "      <th>product</th>\n",
       "    </tr>\n",
       "  </thead>\n",
       "  <tbody>\n",
       "    <tr>\n",
       "      <th>0</th>\n",
       "      <td>txEyH</td>\n",
       "      <td>0.705745</td>\n",
       "      <td>-0.497823</td>\n",
       "      <td>1.221170</td>\n",
       "      <td>105.280062</td>\n",
       "    </tr>\n",
       "    <tr>\n",
       "      <th>1</th>\n",
       "      <td>2acmU</td>\n",
       "      <td>1.334711</td>\n",
       "      <td>-0.340164</td>\n",
       "      <td>4.365080</td>\n",
       "      <td>73.037750</td>\n",
       "    </tr>\n",
       "    <tr>\n",
       "      <th>2</th>\n",
       "      <td>409Wp</td>\n",
       "      <td>1.022732</td>\n",
       "      <td>0.151990</td>\n",
       "      <td>1.419926</td>\n",
       "      <td>85.265647</td>\n",
       "    </tr>\n",
       "    <tr>\n",
       "      <th>3</th>\n",
       "      <td>iJLyR</td>\n",
       "      <td>-0.032172</td>\n",
       "      <td>0.139033</td>\n",
       "      <td>2.978566</td>\n",
       "      <td>168.620776</td>\n",
       "    </tr>\n",
       "    <tr>\n",
       "      <th>4</th>\n",
       "      <td>Xdl7t</td>\n",
       "      <td>1.988431</td>\n",
       "      <td>0.155413</td>\n",
       "      <td>4.751769</td>\n",
       "      <td>154.036647</td>\n",
       "    </tr>\n",
       "    <tr>\n",
       "      <th>...</th>\n",
       "      <td>...</td>\n",
       "      <td>...</td>\n",
       "      <td>...</td>\n",
       "      <td>...</td>\n",
       "      <td>...</td>\n",
       "    </tr>\n",
       "    <tr>\n",
       "      <th>99995</th>\n",
       "      <td>DLsed</td>\n",
       "      <td>0.971957</td>\n",
       "      <td>0.370953</td>\n",
       "      <td>6.075346</td>\n",
       "      <td>110.744026</td>\n",
       "    </tr>\n",
       "    <tr>\n",
       "      <th>99996</th>\n",
       "      <td>QKivN</td>\n",
       "      <td>1.392429</td>\n",
       "      <td>-0.382606</td>\n",
       "      <td>1.273912</td>\n",
       "      <td>122.346843</td>\n",
       "    </tr>\n",
       "    <tr>\n",
       "      <th>99997</th>\n",
       "      <td>3rnvd</td>\n",
       "      <td>1.029585</td>\n",
       "      <td>0.018787</td>\n",
       "      <td>-1.348308</td>\n",
       "      <td>64.375443</td>\n",
       "    </tr>\n",
       "    <tr>\n",
       "      <th>99998</th>\n",
       "      <td>7kl59</td>\n",
       "      <td>0.998163</td>\n",
       "      <td>-0.528582</td>\n",
       "      <td>1.583869</td>\n",
       "      <td>74.040764</td>\n",
       "    </tr>\n",
       "    <tr>\n",
       "      <th>99999</th>\n",
       "      <td>1CWhH</td>\n",
       "      <td>1.764754</td>\n",
       "      <td>-0.266417</td>\n",
       "      <td>5.722849</td>\n",
       "      <td>149.633246</td>\n",
       "    </tr>\n",
       "  </tbody>\n",
       "</table>\n",
       "<p>100000 rows × 5 columns</p>\n",
       "</div>"
      ],
      "text/plain": [
       "          id        f0        f1        f2     product\n",
       "0      txEyH  0.705745 -0.497823  1.221170  105.280062\n",
       "1      2acmU  1.334711 -0.340164  4.365080   73.037750\n",
       "2      409Wp  1.022732  0.151990  1.419926   85.265647\n",
       "3      iJLyR -0.032172  0.139033  2.978566  168.620776\n",
       "4      Xdl7t  1.988431  0.155413  4.751769  154.036647\n",
       "...      ...       ...       ...       ...         ...\n",
       "99995  DLsed  0.971957  0.370953  6.075346  110.744026\n",
       "99996  QKivN  1.392429 -0.382606  1.273912  122.346843\n",
       "99997  3rnvd  1.029585  0.018787 -1.348308   64.375443\n",
       "99998  7kl59  0.998163 -0.528582  1.583869   74.040764\n",
       "99999  1CWhH  1.764754 -0.266417  5.722849  149.633246\n",
       "\n",
       "[100000 rows x 5 columns]"
      ]
     },
     "metadata": {},
     "output_type": "display_data"
    },
    {
     "data": {
      "text/html": [
       "<div>\n",
       "<style scoped>\n",
       "    .dataframe tbody tr th:only-of-type {\n",
       "        vertical-align: middle;\n",
       "    }\n",
       "\n",
       "    .dataframe tbody tr th {\n",
       "        vertical-align: top;\n",
       "    }\n",
       "\n",
       "    .dataframe thead th {\n",
       "        text-align: right;\n",
       "    }\n",
       "</style>\n",
       "<table border=\"1\" class=\"dataframe\">\n",
       "  <thead>\n",
       "    <tr style=\"text-align: right;\">\n",
       "      <th></th>\n",
       "      <th>id</th>\n",
       "      <th>f0</th>\n",
       "      <th>f1</th>\n",
       "      <th>f2</th>\n",
       "      <th>product</th>\n",
       "    </tr>\n",
       "  </thead>\n",
       "  <tbody>\n",
       "    <tr>\n",
       "      <th>0</th>\n",
       "      <td>kBEdx</td>\n",
       "      <td>-15.001348</td>\n",
       "      <td>-8.276000</td>\n",
       "      <td>-0.005876</td>\n",
       "      <td>3.179103</td>\n",
       "    </tr>\n",
       "    <tr>\n",
       "      <th>1</th>\n",
       "      <td>62mP7</td>\n",
       "      <td>14.272088</td>\n",
       "      <td>-3.475083</td>\n",
       "      <td>0.999183</td>\n",
       "      <td>26.953261</td>\n",
       "    </tr>\n",
       "    <tr>\n",
       "      <th>2</th>\n",
       "      <td>vyE1P</td>\n",
       "      <td>6.263187</td>\n",
       "      <td>-5.948386</td>\n",
       "      <td>5.001160</td>\n",
       "      <td>134.766305</td>\n",
       "    </tr>\n",
       "    <tr>\n",
       "      <th>3</th>\n",
       "      <td>KcrkZ</td>\n",
       "      <td>-13.081196</td>\n",
       "      <td>-11.506057</td>\n",
       "      <td>4.999415</td>\n",
       "      <td>137.945408</td>\n",
       "    </tr>\n",
       "    <tr>\n",
       "      <th>4</th>\n",
       "      <td>AHL4O</td>\n",
       "      <td>12.702195</td>\n",
       "      <td>-8.147433</td>\n",
       "      <td>5.004363</td>\n",
       "      <td>134.766305</td>\n",
       "    </tr>\n",
       "    <tr>\n",
       "      <th>...</th>\n",
       "      <td>...</td>\n",
       "      <td>...</td>\n",
       "      <td>...</td>\n",
       "      <td>...</td>\n",
       "      <td>...</td>\n",
       "    </tr>\n",
       "    <tr>\n",
       "      <th>99995</th>\n",
       "      <td>QywKC</td>\n",
       "      <td>9.535637</td>\n",
       "      <td>-6.878139</td>\n",
       "      <td>1.998296</td>\n",
       "      <td>53.906522</td>\n",
       "    </tr>\n",
       "    <tr>\n",
       "      <th>99996</th>\n",
       "      <td>ptvty</td>\n",
       "      <td>-10.160631</td>\n",
       "      <td>-12.558096</td>\n",
       "      <td>5.005581</td>\n",
       "      <td>137.945408</td>\n",
       "    </tr>\n",
       "    <tr>\n",
       "      <th>99997</th>\n",
       "      <td>09gWa</td>\n",
       "      <td>-7.378891</td>\n",
       "      <td>-3.084104</td>\n",
       "      <td>4.998651</td>\n",
       "      <td>137.945408</td>\n",
       "    </tr>\n",
       "    <tr>\n",
       "      <th>99998</th>\n",
       "      <td>rqwUm</td>\n",
       "      <td>0.665714</td>\n",
       "      <td>-6.152593</td>\n",
       "      <td>1.000146</td>\n",
       "      <td>30.132364</td>\n",
       "    </tr>\n",
       "    <tr>\n",
       "      <th>99999</th>\n",
       "      <td>relB0</td>\n",
       "      <td>-3.426139</td>\n",
       "      <td>-7.794274</td>\n",
       "      <td>-0.003299</td>\n",
       "      <td>3.179103</td>\n",
       "    </tr>\n",
       "  </tbody>\n",
       "</table>\n",
       "<p>100000 rows × 5 columns</p>\n",
       "</div>"
      ],
      "text/plain": [
       "          id         f0         f1        f2     product\n",
       "0      kBEdx -15.001348  -8.276000 -0.005876    3.179103\n",
       "1      62mP7  14.272088  -3.475083  0.999183   26.953261\n",
       "2      vyE1P   6.263187  -5.948386  5.001160  134.766305\n",
       "3      KcrkZ -13.081196 -11.506057  4.999415  137.945408\n",
       "4      AHL4O  12.702195  -8.147433  5.004363  134.766305\n",
       "...      ...        ...        ...       ...         ...\n",
       "99995  QywKC   9.535637  -6.878139  1.998296   53.906522\n",
       "99996  ptvty -10.160631 -12.558096  5.005581  137.945408\n",
       "99997  09gWa  -7.378891  -3.084104  4.998651  137.945408\n",
       "99998  rqwUm   0.665714  -6.152593  1.000146   30.132364\n",
       "99999  relB0  -3.426139  -7.794274 -0.003299    3.179103\n",
       "\n",
       "[100000 rows x 5 columns]"
      ]
     },
     "metadata": {},
     "output_type": "display_data"
    },
    {
     "data": {
      "text/html": [
       "<div>\n",
       "<style scoped>\n",
       "    .dataframe tbody tr th:only-of-type {\n",
       "        vertical-align: middle;\n",
       "    }\n",
       "\n",
       "    .dataframe tbody tr th {\n",
       "        vertical-align: top;\n",
       "    }\n",
       "\n",
       "    .dataframe thead th {\n",
       "        text-align: right;\n",
       "    }\n",
       "</style>\n",
       "<table border=\"1\" class=\"dataframe\">\n",
       "  <thead>\n",
       "    <tr style=\"text-align: right;\">\n",
       "      <th></th>\n",
       "      <th>id</th>\n",
       "      <th>f0</th>\n",
       "      <th>f1</th>\n",
       "      <th>f2</th>\n",
       "      <th>product</th>\n",
       "    </tr>\n",
       "  </thead>\n",
       "  <tbody>\n",
       "    <tr>\n",
       "      <th>0</th>\n",
       "      <td>fwXo0</td>\n",
       "      <td>-1.146987</td>\n",
       "      <td>0.963328</td>\n",
       "      <td>-0.828965</td>\n",
       "      <td>27.758673</td>\n",
       "    </tr>\n",
       "    <tr>\n",
       "      <th>1</th>\n",
       "      <td>WJtFt</td>\n",
       "      <td>0.262778</td>\n",
       "      <td>0.269839</td>\n",
       "      <td>-2.530187</td>\n",
       "      <td>56.069697</td>\n",
       "    </tr>\n",
       "    <tr>\n",
       "      <th>2</th>\n",
       "      <td>ovLUW</td>\n",
       "      <td>0.194587</td>\n",
       "      <td>0.289035</td>\n",
       "      <td>-5.586433</td>\n",
       "      <td>62.871910</td>\n",
       "    </tr>\n",
       "    <tr>\n",
       "      <th>3</th>\n",
       "      <td>q6cA6</td>\n",
       "      <td>2.236060</td>\n",
       "      <td>-0.553760</td>\n",
       "      <td>0.930038</td>\n",
       "      <td>114.572842</td>\n",
       "    </tr>\n",
       "    <tr>\n",
       "      <th>4</th>\n",
       "      <td>WPMUX</td>\n",
       "      <td>-0.515993</td>\n",
       "      <td>1.716266</td>\n",
       "      <td>5.899011</td>\n",
       "      <td>149.600746</td>\n",
       "    </tr>\n",
       "    <tr>\n",
       "      <th>...</th>\n",
       "      <td>...</td>\n",
       "      <td>...</td>\n",
       "      <td>...</td>\n",
       "      <td>...</td>\n",
       "      <td>...</td>\n",
       "    </tr>\n",
       "    <tr>\n",
       "      <th>99995</th>\n",
       "      <td>4GxBu</td>\n",
       "      <td>-1.777037</td>\n",
       "      <td>1.125220</td>\n",
       "      <td>6.263374</td>\n",
       "      <td>172.327046</td>\n",
       "    </tr>\n",
       "    <tr>\n",
       "      <th>99996</th>\n",
       "      <td>YKFjq</td>\n",
       "      <td>-1.261523</td>\n",
       "      <td>-0.894828</td>\n",
       "      <td>2.524545</td>\n",
       "      <td>138.748846</td>\n",
       "    </tr>\n",
       "    <tr>\n",
       "      <th>99997</th>\n",
       "      <td>tKPY3</td>\n",
       "      <td>-1.199934</td>\n",
       "      <td>-2.957637</td>\n",
       "      <td>5.219411</td>\n",
       "      <td>157.080080</td>\n",
       "    </tr>\n",
       "    <tr>\n",
       "      <th>99998</th>\n",
       "      <td>nmxp2</td>\n",
       "      <td>-2.419896</td>\n",
       "      <td>2.417221</td>\n",
       "      <td>-5.548444</td>\n",
       "      <td>51.795253</td>\n",
       "    </tr>\n",
       "    <tr>\n",
       "      <th>99999</th>\n",
       "      <td>V9kWn</td>\n",
       "      <td>-2.551421</td>\n",
       "      <td>-2.025625</td>\n",
       "      <td>6.090891</td>\n",
       "      <td>102.775767</td>\n",
       "    </tr>\n",
       "  </tbody>\n",
       "</table>\n",
       "<p>100000 rows × 5 columns</p>\n",
       "</div>"
      ],
      "text/plain": [
       "          id        f0        f1        f2     product\n",
       "0      fwXo0 -1.146987  0.963328 -0.828965   27.758673\n",
       "1      WJtFt  0.262778  0.269839 -2.530187   56.069697\n",
       "2      ovLUW  0.194587  0.289035 -5.586433   62.871910\n",
       "3      q6cA6  2.236060 -0.553760  0.930038  114.572842\n",
       "4      WPMUX -0.515993  1.716266  5.899011  149.600746\n",
       "...      ...       ...       ...       ...         ...\n",
       "99995  4GxBu -1.777037  1.125220  6.263374  172.327046\n",
       "99996  YKFjq -1.261523 -0.894828  2.524545  138.748846\n",
       "99997  tKPY3 -1.199934 -2.957637  5.219411  157.080080\n",
       "99998  nmxp2 -2.419896  2.417221 -5.548444   51.795253\n",
       "99999  V9kWn -2.551421 -2.025625  6.090891  102.775767\n",
       "\n",
       "[100000 rows x 5 columns]"
      ]
     },
     "metadata": {},
     "output_type": "display_data"
    }
   ],
   "source": [
    "display(geo_data_0)\n",
    "display(geo_data_1)\n",
    "display(geo_data_2)"
   ]
  },
  {
   "cell_type": "code",
   "execution_count": 4,
   "metadata": {},
   "outputs": [
    {
     "name": "stdout",
     "output_type": "stream",
     "text": [
      "<class 'pandas.core.frame.DataFrame'>\n",
      "RangeIndex: 100000 entries, 0 to 99999\n",
      "Data columns (total 5 columns):\n",
      " #   Column   Non-Null Count   Dtype  \n",
      "---  ------   --------------   -----  \n",
      " 0   id       100000 non-null  object \n",
      " 1   f0       100000 non-null  float64\n",
      " 2   f1       100000 non-null  float64\n",
      " 3   f2       100000 non-null  float64\n",
      " 4   product  100000 non-null  float64\n",
      "dtypes: float64(4), object(1)\n",
      "memory usage: 3.8+ MB\n"
     ]
    },
    {
     "data": {
      "text/plain": [
       "None"
      ]
     },
     "metadata": {},
     "output_type": "display_data"
    },
    {
     "name": "stdout",
     "output_type": "stream",
     "text": [
      "<class 'pandas.core.frame.DataFrame'>\n",
      "RangeIndex: 100000 entries, 0 to 99999\n",
      "Data columns (total 5 columns):\n",
      " #   Column   Non-Null Count   Dtype  \n",
      "---  ------   --------------   -----  \n",
      " 0   id       100000 non-null  object \n",
      " 1   f0       100000 non-null  float64\n",
      " 2   f1       100000 non-null  float64\n",
      " 3   f2       100000 non-null  float64\n",
      " 4   product  100000 non-null  float64\n",
      "dtypes: float64(4), object(1)\n",
      "memory usage: 3.8+ MB\n"
     ]
    },
    {
     "data": {
      "text/plain": [
       "None"
      ]
     },
     "metadata": {},
     "output_type": "display_data"
    },
    {
     "name": "stdout",
     "output_type": "stream",
     "text": [
      "<class 'pandas.core.frame.DataFrame'>\n",
      "RangeIndex: 100000 entries, 0 to 99999\n",
      "Data columns (total 5 columns):\n",
      " #   Column   Non-Null Count   Dtype  \n",
      "---  ------   --------------   -----  \n",
      " 0   id       100000 non-null  object \n",
      " 1   f0       100000 non-null  float64\n",
      " 2   f1       100000 non-null  float64\n",
      " 3   f2       100000 non-null  float64\n",
      " 4   product  100000 non-null  float64\n",
      "dtypes: float64(4), object(1)\n",
      "memory usage: 3.8+ MB\n"
     ]
    },
    {
     "data": {
      "text/plain": [
       "None"
      ]
     },
     "metadata": {},
     "output_type": "display_data"
    }
   ],
   "source": [
    "display(geo_data_0.info())\n",
    "display(geo_data_1.info())\n",
    "display(geo_data_2.info())"
   ]
  },
  {
   "cell_type": "code",
   "execution_count": 5,
   "metadata": {},
   "outputs": [
    {
     "data": {
      "text/plain": [
       "'geo_data_0:'"
      ]
     },
     "metadata": {},
     "output_type": "display_data"
    },
    {
     "data": {
      "text/html": [
       "<div>\n",
       "<style scoped>\n",
       "    .dataframe tbody tr th:only-of-type {\n",
       "        vertical-align: middle;\n",
       "    }\n",
       "\n",
       "    .dataframe tbody tr th {\n",
       "        vertical-align: top;\n",
       "    }\n",
       "\n",
       "    .dataframe thead th {\n",
       "        text-align: right;\n",
       "    }\n",
       "</style>\n",
       "<table border=\"1\" class=\"dataframe\">\n",
       "  <thead>\n",
       "    <tr style=\"text-align: right;\">\n",
       "      <th></th>\n",
       "      <th>count</th>\n",
       "      <th>mean</th>\n",
       "      <th>std</th>\n",
       "      <th>min</th>\n",
       "      <th>5%</th>\n",
       "      <th>25%</th>\n",
       "      <th>50%</th>\n",
       "      <th>75%</th>\n",
       "      <th>95%</th>\n",
       "      <th>99%</th>\n",
       "      <th>max</th>\n",
       "    </tr>\n",
       "  </thead>\n",
       "  <tbody>\n",
       "    <tr>\n",
       "      <th>f0</th>\n",
       "      <td>100000.0</td>\n",
       "      <td>0.500419</td>\n",
       "      <td>0.871832</td>\n",
       "      <td>-1.408605</td>\n",
       "      <td>-0.940431</td>\n",
       "      <td>-0.072580</td>\n",
       "      <td>0.502360</td>\n",
       "      <td>1.073581</td>\n",
       "      <td>1.939265</td>\n",
       "      <td>2.082334</td>\n",
       "      <td>2.362331</td>\n",
       "    </tr>\n",
       "    <tr>\n",
       "      <th>f1</th>\n",
       "      <td>100000.0</td>\n",
       "      <td>0.250143</td>\n",
       "      <td>0.504433</td>\n",
       "      <td>-0.848218</td>\n",
       "      <td>-0.514661</td>\n",
       "      <td>-0.200881</td>\n",
       "      <td>0.250252</td>\n",
       "      <td>0.700646</td>\n",
       "      <td>1.015524</td>\n",
       "      <td>1.121338</td>\n",
       "      <td>1.343769</td>\n",
       "    </tr>\n",
       "    <tr>\n",
       "      <th>f2</th>\n",
       "      <td>100000.0</td>\n",
       "      <td>2.502647</td>\n",
       "      <td>3.248248</td>\n",
       "      <td>-12.088328</td>\n",
       "      <td>-2.862016</td>\n",
       "      <td>0.287748</td>\n",
       "      <td>2.515969</td>\n",
       "      <td>4.715088</td>\n",
       "      <td>7.840264</td>\n",
       "      <td>9.969349</td>\n",
       "      <td>16.003790</td>\n",
       "    </tr>\n",
       "    <tr>\n",
       "      <th>product</th>\n",
       "      <td>100000.0</td>\n",
       "      <td>92.500000</td>\n",
       "      <td>44.288691</td>\n",
       "      <td>0.000000</td>\n",
       "      <td>24.019137</td>\n",
       "      <td>56.497507</td>\n",
       "      <td>91.849972</td>\n",
       "      <td>128.564089</td>\n",
       "      <td>161.206333</td>\n",
       "      <td>180.351516</td>\n",
       "      <td>185.364347</td>\n",
       "    </tr>\n",
       "  </tbody>\n",
       "</table>\n",
       "</div>"
      ],
      "text/plain": [
       "            count       mean        std        min         5%        25%  \\\n",
       "f0       100000.0   0.500419   0.871832  -1.408605  -0.940431  -0.072580   \n",
       "f1       100000.0   0.250143   0.504433  -0.848218  -0.514661  -0.200881   \n",
       "f2       100000.0   2.502647   3.248248 -12.088328  -2.862016   0.287748   \n",
       "product  100000.0  92.500000  44.288691   0.000000  24.019137  56.497507   \n",
       "\n",
       "               50%         75%         95%         99%         max  \n",
       "f0        0.502360    1.073581    1.939265    2.082334    2.362331  \n",
       "f1        0.250252    0.700646    1.015524    1.121338    1.343769  \n",
       "f2        2.515969    4.715088    7.840264    9.969349   16.003790  \n",
       "product  91.849972  128.564089  161.206333  180.351516  185.364347  "
      ]
     },
     "metadata": {},
     "output_type": "display_data"
    },
    {
     "data": {
      "text/plain": [
       "'geo_data_1:'"
      ]
     },
     "metadata": {},
     "output_type": "display_data"
    },
    {
     "data": {
      "text/html": [
       "<div>\n",
       "<style scoped>\n",
       "    .dataframe tbody tr th:only-of-type {\n",
       "        vertical-align: middle;\n",
       "    }\n",
       "\n",
       "    .dataframe tbody tr th {\n",
       "        vertical-align: top;\n",
       "    }\n",
       "\n",
       "    .dataframe thead th {\n",
       "        text-align: right;\n",
       "    }\n",
       "</style>\n",
       "<table border=\"1\" class=\"dataframe\">\n",
       "  <thead>\n",
       "    <tr style=\"text-align: right;\">\n",
       "      <th></th>\n",
       "      <th>count</th>\n",
       "      <th>mean</th>\n",
       "      <th>std</th>\n",
       "      <th>min</th>\n",
       "      <th>5%</th>\n",
       "      <th>25%</th>\n",
       "      <th>50%</th>\n",
       "      <th>75%</th>\n",
       "      <th>95%</th>\n",
       "      <th>99%</th>\n",
       "      <th>max</th>\n",
       "    </tr>\n",
       "  </thead>\n",
       "  <tbody>\n",
       "    <tr>\n",
       "      <th>f0</th>\n",
       "      <td>100000.0</td>\n",
       "      <td>1.141296</td>\n",
       "      <td>8.965932</td>\n",
       "      <td>-31.609576</td>\n",
       "      <td>-12.706888</td>\n",
       "      <td>-6.298551</td>\n",
       "      <td>1.153055</td>\n",
       "      <td>8.621015</td>\n",
       "      <td>15.024181</td>\n",
       "      <td>18.863531</td>\n",
       "      <td>29.421755</td>\n",
       "    </tr>\n",
       "    <tr>\n",
       "      <th>f1</th>\n",
       "      <td>100000.0</td>\n",
       "      <td>-4.796579</td>\n",
       "      <td>5.119872</td>\n",
       "      <td>-26.358598</td>\n",
       "      <td>-13.190846</td>\n",
       "      <td>-8.267985</td>\n",
       "      <td>-4.813172</td>\n",
       "      <td>-1.332816</td>\n",
       "      <td>3.667425</td>\n",
       "      <td>7.139352</td>\n",
       "      <td>18.734063</td>\n",
       "    </tr>\n",
       "    <tr>\n",
       "      <th>f2</th>\n",
       "      <td>100000.0</td>\n",
       "      <td>2.494541</td>\n",
       "      <td>1.703572</td>\n",
       "      <td>-0.018144</td>\n",
       "      <td>-0.002644</td>\n",
       "      <td>1.000021</td>\n",
       "      <td>2.011479</td>\n",
       "      <td>3.999904</td>\n",
       "      <td>5.002640</td>\n",
       "      <td>5.007810</td>\n",
       "      <td>5.019721</td>\n",
       "    </tr>\n",
       "    <tr>\n",
       "      <th>product</th>\n",
       "      <td>100000.0</td>\n",
       "      <td>68.825000</td>\n",
       "      <td>45.944423</td>\n",
       "      <td>0.000000</td>\n",
       "      <td>0.000000</td>\n",
       "      <td>26.953261</td>\n",
       "      <td>57.085625</td>\n",
       "      <td>107.813044</td>\n",
       "      <td>137.945408</td>\n",
       "      <td>137.945408</td>\n",
       "      <td>137.945408</td>\n",
       "    </tr>\n",
       "  </tbody>\n",
       "</table>\n",
       "</div>"
      ],
      "text/plain": [
       "            count       mean        std        min         5%        25%  \\\n",
       "f0       100000.0   1.141296   8.965932 -31.609576 -12.706888  -6.298551   \n",
       "f1       100000.0  -4.796579   5.119872 -26.358598 -13.190846  -8.267985   \n",
       "f2       100000.0   2.494541   1.703572  -0.018144  -0.002644   1.000021   \n",
       "product  100000.0  68.825000  45.944423   0.000000   0.000000  26.953261   \n",
       "\n",
       "               50%         75%         95%         99%         max  \n",
       "f0        1.153055    8.621015   15.024181   18.863531   29.421755  \n",
       "f1       -4.813172   -1.332816    3.667425    7.139352   18.734063  \n",
       "f2        2.011479    3.999904    5.002640    5.007810    5.019721  \n",
       "product  57.085625  107.813044  137.945408  137.945408  137.945408  "
      ]
     },
     "metadata": {},
     "output_type": "display_data"
    },
    {
     "data": {
      "text/plain": [
       "'geo_data_2:'"
      ]
     },
     "metadata": {},
     "output_type": "display_data"
    },
    {
     "data": {
      "text/html": [
       "<div>\n",
       "<style scoped>\n",
       "    .dataframe tbody tr th:only-of-type {\n",
       "        vertical-align: middle;\n",
       "    }\n",
       "\n",
       "    .dataframe tbody tr th {\n",
       "        vertical-align: top;\n",
       "    }\n",
       "\n",
       "    .dataframe thead th {\n",
       "        text-align: right;\n",
       "    }\n",
       "</style>\n",
       "<table border=\"1\" class=\"dataframe\">\n",
       "  <thead>\n",
       "    <tr style=\"text-align: right;\">\n",
       "      <th></th>\n",
       "      <th>count</th>\n",
       "      <th>mean</th>\n",
       "      <th>std</th>\n",
       "      <th>min</th>\n",
       "      <th>5%</th>\n",
       "      <th>25%</th>\n",
       "      <th>50%</th>\n",
       "      <th>75%</th>\n",
       "      <th>95%</th>\n",
       "      <th>99%</th>\n",
       "      <th>max</th>\n",
       "    </tr>\n",
       "  </thead>\n",
       "  <tbody>\n",
       "    <tr>\n",
       "      <th>f0</th>\n",
       "      <td>100000.0</td>\n",
       "      <td>0.002023</td>\n",
       "      <td>1.732045</td>\n",
       "      <td>-8.760004</td>\n",
       "      <td>-2.847974</td>\n",
       "      <td>-1.162288</td>\n",
       "      <td>0.009424</td>\n",
       "      <td>1.158535</td>\n",
       "      <td>2.851247</td>\n",
       "      <td>4.057783</td>\n",
       "      <td>7.238262</td>\n",
       "    </tr>\n",
       "    <tr>\n",
       "      <th>f1</th>\n",
       "      <td>100000.0</td>\n",
       "      <td>-0.002081</td>\n",
       "      <td>1.730417</td>\n",
       "      <td>-7.084020</td>\n",
       "      <td>-2.836316</td>\n",
       "      <td>-1.174820</td>\n",
       "      <td>-0.009482</td>\n",
       "      <td>1.163678</td>\n",
       "      <td>2.845834</td>\n",
       "      <td>4.020189</td>\n",
       "      <td>7.844801</td>\n",
       "    </tr>\n",
       "    <tr>\n",
       "      <th>f2</th>\n",
       "      <td>100000.0</td>\n",
       "      <td>2.495128</td>\n",
       "      <td>3.473445</td>\n",
       "      <td>-11.970335</td>\n",
       "      <td>-3.193020</td>\n",
       "      <td>0.130359</td>\n",
       "      <td>2.484236</td>\n",
       "      <td>4.858794</td>\n",
       "      <td>8.227100</td>\n",
       "      <td>10.511973</td>\n",
       "      <td>16.739402</td>\n",
       "    </tr>\n",
       "    <tr>\n",
       "      <th>product</th>\n",
       "      <td>100000.0</td>\n",
       "      <td>95.000000</td>\n",
       "      <td>44.749921</td>\n",
       "      <td>0.000000</td>\n",
       "      <td>24.678170</td>\n",
       "      <td>59.450441</td>\n",
       "      <td>94.925613</td>\n",
       "      <td>130.595027</td>\n",
       "      <td>165.665158</td>\n",
       "      <td>184.995815</td>\n",
       "      <td>190.029838</td>\n",
       "    </tr>\n",
       "  </tbody>\n",
       "</table>\n",
       "</div>"
      ],
      "text/plain": [
       "            count       mean        std        min         5%        25%  \\\n",
       "f0       100000.0   0.002023   1.732045  -8.760004  -2.847974  -1.162288   \n",
       "f1       100000.0  -0.002081   1.730417  -7.084020  -2.836316  -1.174820   \n",
       "f2       100000.0   2.495128   3.473445 -11.970335  -3.193020   0.130359   \n",
       "product  100000.0  95.000000  44.749921   0.000000  24.678170  59.450441   \n",
       "\n",
       "               50%         75%         95%         99%         max  \n",
       "f0        0.009424    1.158535    2.851247    4.057783    7.238262  \n",
       "f1       -0.009482    1.163678    2.845834    4.020189    7.844801  \n",
       "f2        2.484236    4.858794    8.227100   10.511973   16.739402  \n",
       "product  94.925613  130.595027  165.665158  184.995815  190.029838  "
      ]
     },
     "metadata": {},
     "output_type": "display_data"
    }
   ],
   "source": [
    "display('geo_data_0:', geo_data_0.describe(percentiles=[0.05, 1/4, 1/2, 3/4, 0.95, 0.99]).T)\n",
    "display('geo_data_1:', geo_data_1.describe(percentiles=[0.05, 1/4, 1/2, 3/4, 0.95, 0.99]).T)\n",
    "display('geo_data_2:', geo_data_2.describe(percentiles=[0.05, 1/4, 1/2, 3/4, 0.95, 0.99]).T)"
   ]
  },
  {
   "cell_type": "markdown",
   "metadata": {},
   "source": [
    "Типы данных и наименования указаны верно, при первом осмотре ошибок не обнаружил."
   ]
  },
  {
   "cell_type": "markdown",
   "metadata": {},
   "source": [
    "### Предобработка данных"
   ]
  },
  {
   "cell_type": "markdown",
   "metadata": {},
   "source": [
    "#### Пропуски"
   ]
  },
  {
   "cell_type": "code",
   "execution_count": 6,
   "metadata": {},
   "outputs": [
    {
     "data": {
      "text/plain": [
       "'Пропуски geo_data_0:'"
      ]
     },
     "metadata": {},
     "output_type": "display_data"
    },
    {
     "data": {
      "text/plain": [
       "id         0\n",
       "f0         0\n",
       "f1         0\n",
       "f2         0\n",
       "product    0\n",
       "dtype: int64"
      ]
     },
     "metadata": {},
     "output_type": "display_data"
    },
    {
     "data": {
      "text/plain": [
       "'Пропуски geo_data_1:'"
      ]
     },
     "metadata": {},
     "output_type": "display_data"
    },
    {
     "data": {
      "text/plain": [
       "id         0\n",
       "f0         0\n",
       "f1         0\n",
       "f2         0\n",
       "product    0\n",
       "dtype: int64"
      ]
     },
     "metadata": {},
     "output_type": "display_data"
    },
    {
     "data": {
      "text/plain": [
       "'Пропуски geo_data_2:'"
      ]
     },
     "metadata": {},
     "output_type": "display_data"
    },
    {
     "data": {
      "text/plain": [
       "id         0\n",
       "f0         0\n",
       "f1         0\n",
       "f2         0\n",
       "product    0\n",
       "dtype: int64"
      ]
     },
     "metadata": {},
     "output_type": "display_data"
    }
   ],
   "source": [
    "display('Пропуски geo_data_0:', geo_data_0.isna().sum())\n",
    "display('Пропуски geo_data_1:',geo_data_0.isna().sum())\n",
    "display('Пропуски geo_data_2:', geo_data_0.isna().sum())"
   ]
  },
  {
   "cell_type": "markdown",
   "metadata": {},
   "source": [
    "#### Дубликаты"
   ]
  },
  {
   "cell_type": "code",
   "execution_count": 7,
   "metadata": {},
   "outputs": [
    {
     "data": {
      "text/plain": [
       "'Дубликаты geo_data_0:'"
      ]
     },
     "metadata": {},
     "output_type": "display_data"
    },
    {
     "data": {
      "text/plain": [
       "0"
      ]
     },
     "metadata": {},
     "output_type": "display_data"
    },
    {
     "data": {
      "text/plain": [
       "'Дубликаты geo_data_1:'"
      ]
     },
     "metadata": {},
     "output_type": "display_data"
    },
    {
     "data": {
      "text/plain": [
       "0"
      ]
     },
     "metadata": {},
     "output_type": "display_data"
    },
    {
     "data": {
      "text/plain": [
       "'Дубликаты geo_data_2:'"
      ]
     },
     "metadata": {},
     "output_type": "display_data"
    },
    {
     "data": {
      "text/plain": [
       "0"
      ]
     },
     "metadata": {},
     "output_type": "display_data"
    }
   ],
   "source": [
    "display('Дубликаты geo_data_0:', geo_data_0.duplicated().sum())\n",
    "display('Дубликаты geo_data_1:', geo_data_1.duplicated().sum())\n",
    "display('Дубликаты geo_data_2:', geo_data_2.duplicated().sum())"
   ]
  },
  {
   "cell_type": "markdown",
   "metadata": {},
   "source": [
    "дубликатов не обнаружено"
   ]
  },
  {
   "cell_type": "code",
   "execution_count": 8,
   "metadata": {},
   "outputs": [
    {
     "data": {
      "text/plain": [
       "'Уникальные значения в geo_data_0:'"
      ]
     },
     "metadata": {},
     "output_type": "display_data"
    },
    {
     "data": {
      "text/plain": [
       "id          99990\n",
       "f0         100000\n",
       "f1         100000\n",
       "f2         100000\n",
       "product    100000\n",
       "dtype: int64"
      ]
     },
     "metadata": {},
     "output_type": "display_data"
    },
    {
     "data": {
      "text/plain": [
       "'Уникальные значения в geo_data_1:'"
      ]
     },
     "metadata": {},
     "output_type": "display_data"
    },
    {
     "data": {
      "text/plain": [
       "id          99996\n",
       "f0         100000\n",
       "f1         100000\n",
       "f2         100000\n",
       "product        12\n",
       "dtype: int64"
      ]
     },
     "metadata": {},
     "output_type": "display_data"
    },
    {
     "data": {
      "text/plain": [
       "'Уникальные значения в geo_data_2:'"
      ]
     },
     "metadata": {},
     "output_type": "display_data"
    },
    {
     "data": {
      "text/plain": [
       "id          99996\n",
       "f0         100000\n",
       "f1         100000\n",
       "f2         100000\n",
       "product    100000\n",
       "dtype: int64"
      ]
     },
     "metadata": {},
     "output_type": "display_data"
    }
   ],
   "source": [
    "geo_data_0.nunique()\n",
    "display('Уникальные значения в geo_data_0:', geo_data_0.nunique())\n",
    "display('Уникальные значения в geo_data_1:', geo_data_1.nunique())\n",
    "display('Уникальные значения в geo_data_2:', geo_data_2.nunique())"
   ]
  },
  {
   "cell_type": "code",
   "execution_count": 9,
   "metadata": {},
   "outputs": [
    {
     "data": {
      "text/plain": [
       "array([  3.17910258,  26.95326103, 134.76630516, 137.94540774,\n",
       "        84.03888568, 110.99214671,  53.90652206,   0.        ,\n",
       "       107.81304413,  57.08562465,  30.13236361,  80.85978309])"
      ]
     },
     "execution_count": 9,
     "metadata": {},
     "output_type": "execute_result"
    }
   ],
   "source": [
    "geo_data_1['product'].unique()"
   ]
  },
  {
   "cell_type": "code",
   "execution_count": 10,
   "metadata": {},
   "outputs": [
    {
     "data": {
      "text/html": [
       "<div>\n",
       "<style scoped>\n",
       "    .dataframe tbody tr th:only-of-type {\n",
       "        vertical-align: middle;\n",
       "    }\n",
       "\n",
       "    .dataframe tbody tr th {\n",
       "        vertical-align: top;\n",
       "    }\n",
       "\n",
       "    .dataframe thead th {\n",
       "        text-align: right;\n",
       "    }\n",
       "</style>\n",
       "<table border=\"1\" class=\"dataframe\">\n",
       "  <thead>\n",
       "    <tr style=\"text-align: right;\">\n",
       "      <th></th>\n",
       "      <th>id</th>\n",
       "      <th>f0</th>\n",
       "      <th>f1</th>\n",
       "      <th>f2</th>\n",
       "      <th>product</th>\n",
       "    </tr>\n",
       "  </thead>\n",
       "  <tbody>\n",
       "    <tr>\n",
       "      <th>11</th>\n",
       "      <td>OXyvW</td>\n",
       "      <td>16.320755</td>\n",
       "      <td>-0.562946</td>\n",
       "      <td>-0.001783</td>\n",
       "      <td>0.0</td>\n",
       "    </tr>\n",
       "    <tr>\n",
       "      <th>13</th>\n",
       "      <td>igmai</td>\n",
       "      <td>6.695604</td>\n",
       "      <td>-0.749449</td>\n",
       "      <td>-0.007630</td>\n",
       "      <td>0.0</td>\n",
       "    </tr>\n",
       "    <tr>\n",
       "      <th>62</th>\n",
       "      <td>Qjy5w</td>\n",
       "      <td>21.418478</td>\n",
       "      <td>-5.134490</td>\n",
       "      <td>-0.002836</td>\n",
       "      <td>0.0</td>\n",
       "    </tr>\n",
       "    <tr>\n",
       "      <th>63</th>\n",
       "      <td>G6WCj</td>\n",
       "      <td>6.822701</td>\n",
       "      <td>3.104979</td>\n",
       "      <td>-0.000723</td>\n",
       "      <td>0.0</td>\n",
       "    </tr>\n",
       "    <tr>\n",
       "      <th>77</th>\n",
       "      <td>MzQhL</td>\n",
       "      <td>6.750150</td>\n",
       "      <td>-11.893512</td>\n",
       "      <td>-0.001601</td>\n",
       "      <td>0.0</td>\n",
       "    </tr>\n",
       "    <tr>\n",
       "      <th>...</th>\n",
       "      <td>...</td>\n",
       "      <td>...</td>\n",
       "      <td>...</td>\n",
       "      <td>...</td>\n",
       "      <td>...</td>\n",
       "    </tr>\n",
       "    <tr>\n",
       "      <th>99936</th>\n",
       "      <td>YrRU8</td>\n",
       "      <td>5.085749</td>\n",
       "      <td>-3.980305</td>\n",
       "      <td>0.005063</td>\n",
       "      <td>0.0</td>\n",
       "    </tr>\n",
       "    <tr>\n",
       "      <th>99948</th>\n",
       "      <td>Jbnur</td>\n",
       "      <td>8.277805</td>\n",
       "      <td>-9.178818</td>\n",
       "      <td>0.003275</td>\n",
       "      <td>0.0</td>\n",
       "    </tr>\n",
       "    <tr>\n",
       "      <th>99956</th>\n",
       "      <td>aV1cJ</td>\n",
       "      <td>13.343983</td>\n",
       "      <td>-1.290200</td>\n",
       "      <td>0.005980</td>\n",
       "      <td>0.0</td>\n",
       "    </tr>\n",
       "    <tr>\n",
       "      <th>99961</th>\n",
       "      <td>Zjbn2</td>\n",
       "      <td>13.854163</td>\n",
       "      <td>-11.528089</td>\n",
       "      <td>-0.005556</td>\n",
       "      <td>0.0</td>\n",
       "    </tr>\n",
       "    <tr>\n",
       "      <th>99973</th>\n",
       "      <td>VsayB</td>\n",
       "      <td>12.698645</td>\n",
       "      <td>-4.384673</td>\n",
       "      <td>-0.002600</td>\n",
       "      <td>0.0</td>\n",
       "    </tr>\n",
       "  </tbody>\n",
       "</table>\n",
       "<p>8235 rows × 5 columns</p>\n",
       "</div>"
      ],
      "text/plain": [
       "          id         f0         f1        f2  product\n",
       "11     OXyvW  16.320755  -0.562946 -0.001783      0.0\n",
       "13     igmai   6.695604  -0.749449 -0.007630      0.0\n",
       "62     Qjy5w  21.418478  -5.134490 -0.002836      0.0\n",
       "63     G6WCj   6.822701   3.104979 -0.000723      0.0\n",
       "77     MzQhL   6.750150 -11.893512 -0.001601      0.0\n",
       "...      ...        ...        ...       ...      ...\n",
       "99936  YrRU8   5.085749  -3.980305  0.005063      0.0\n",
       "99948  Jbnur   8.277805  -9.178818  0.003275      0.0\n",
       "99956  aV1cJ  13.343983  -1.290200  0.005980      0.0\n",
       "99961  Zjbn2  13.854163 -11.528089 -0.005556      0.0\n",
       "99973  VsayB  12.698645  -4.384673 -0.002600      0.0\n",
       "\n",
       "[8235 rows x 5 columns]"
      ]
     },
     "execution_count": 10,
     "metadata": {},
     "output_type": "execute_result"
    }
   ],
   "source": [
    "geo_data_1.query('product < 1')"
   ]
  },
  {
   "cell_type": "code",
   "execution_count": 11,
   "metadata": {},
   "outputs": [
    {
     "name": "stdout",
     "output_type": "stream",
     "text": [
      "12.14%\n"
     ]
    }
   ],
   "source": [
    "x= 100000/8235\n",
    "print(f'{x:.2f}%')"
   ]
  },
  {
   "cell_type": "markdown",
   "metadata": {},
   "source": [
    "в geo_data_1 в продуктах более 12% значений ровны 0"
   ]
  },
  {
   "cell_type": "markdown",
   "metadata": {},
   "source": [
    "#### Выбросы"
   ]
  },
  {
   "cell_type": "code",
   "execution_count": 12,
   "metadata": {},
   "outputs": [
    {
     "data": {
      "image/png": "[encoded data removed]",
      "text/plain": [
       "<Figure size 1080x720 with 1 Axes>"
      ]
     },
     "metadata": {
      "needs_background": "light"
     },
     "output_type": "display_data"
    },
    {
     "data": {
      "image/png": "[encoded data removed]",
      "text/plain": [
       "<Figure size 1080x720 with 1 Axes>"
      ]
     },
     "metadata": {
      "needs_background": "light"
     },
     "output_type": "display_data"
    }
   ],
   "source": [
    "ax = sns.boxplot(data=geo_data_0.iloc[:,1:4])\n",
    "ax.set_xticklabels(ax.get_xticklabels(), rotation=90)\n",
    "plt.title('Гистограмма выбросов geo_data_0 (f0, f1, f2)', size=15)\n",
    "plt.show()\n",
    "ax = sns.boxplot(data=geo_data_0.iloc[:,4:])\n",
    "ax.set_xticklabels(ax.get_xticklabels(), rotation=90)\n",
    "plt.title('Гистограмма выбросов geo_data_0 (product)', size=15)\n",
    "plt.show()"
   ]
  },
  {
   "cell_type": "code",
   "execution_count": 13,
   "metadata": {},
   "outputs": [
    {
     "data": {
      "image/png": "[encoded data removed]",
      "text/plain": [
       "<Figure size 1080x720 with 1 Axes>"
      ]
     },
     "metadata": {
      "needs_background": "light"
     },
     "output_type": "display_data"
    },
    {
     "data": {
      "image/png": "[encoded data removed]",
      "text/plain": [
       "<Figure size 1080x720 with 1 Axes>"
      ]
     },
     "metadata": {
      "needs_background": "light"
     },
     "output_type": "display_data"
    }
   ],
   "source": [
    "ax = sns.boxplot(data=geo_data_1.iloc[:,1:4])\n",
    "ax.set_xticklabels(ax.get_xticklabels(), rotation=90)\n",
    "plt.title('Гистограмма выбросов geo_data_1 (f0, f1, f2)', size=15)\n",
    "plt.show()\n",
    "ax = sns.boxplot(data=geo_data_1.iloc[:,4:])\n",
    "ax.set_xticklabels(ax.get_xticklabels(), rotation=90)\n",
    "plt.title('Гистограмма выбросов geo_data_1 (product)', size=15)\n",
    "plt.show()"
   ]
  },
  {
   "cell_type": "code",
   "execution_count": 14,
   "metadata": {},
   "outputs": [
    {
     "data": {
      "image/png": "[encoded data removed]",
      "text/plain": [
       "<Figure size 1080x720 with 1 Axes>"
      ]
     },
     "metadata": {
      "needs_background": "light"
     },
     "output_type": "display_data"
    },
    {
     "data": {
      "image/png": "[encoded data removed]",
      "text/plain": [
       "<Figure size 1080x720 with 1 Axes>"
      ]
     },
     "metadata": {
      "needs_background": "light"
     },
     "output_type": "display_data"
    }
   ],
   "source": [
    "ax = sns.boxplot(data=geo_data_2.iloc[:,1:4])\n",
    "ax.set_xticklabels(ax.get_xticklabels(), rotation=90)\n",
    "plt.title('Гистограмма выбросов geo_data_2 (f0, f1, f2)', size=15)\n",
    "plt.show()\n",
    "ax = sns.boxplot(data=geo_data_2.iloc[:,4:])\n",
    "ax.set_xticklabels(ax.get_xticklabels(), rotation=90)\n",
    "plt.title('Гистограмма выбросов geo_data_2 (product)', size=15)\n",
    "plt.show()"
   ]
  },
  {
   "cell_type": "markdown",
   "metadata": {},
   "source": [
    "небольшие выбросы в geo_data_0 (колонка f2), geo_data_1 (колонка f1), geo_data_2 (во всех колонках)"
   ]
  },
  {
   "cell_type": "markdown",
   "metadata": {},
   "source": [
    "#### Исследовательский анализ данных"
   ]
  },
  {
   "cell_type": "code",
   "execution_count": 15,
   "metadata": {},
   "outputs": [
    {
     "data": {
      "image/png": "[encoded data removed]",
      "text/plain": [
       "<Figure size 720x720 with 4 Axes>"
      ]
     },
     "metadata": {
      "needs_background": "light"
     },
     "output_type": "display_data"
    }
   ],
   "source": [
    "geo_data_0.iloc[:,1:].hist(figsize=(10, 10), bins=30)\n",
    "plt.suptitle(\"Диаграммы geo_data_0\");"
   ]
  },
  {
   "cell_type": "code",
   "execution_count": 16,
   "metadata": {},
   "outputs": [
    {
     "data": {
      "image/png": "[encoded data removed]",
      "text/plain": [
       "<Figure size 720x720 with 4 Axes>"
      ]
     },
     "metadata": {
      "needs_background": "light"
     },
     "output_type": "display_data"
    }
   ],
   "source": [
    "geo_data_1.iloc[:,1:].hist(figsize=(10, 10), bins=30)\n",
    "plt.suptitle(\"Диаграммы geo_data_1\");"
   ]
  },
  {
   "cell_type": "code",
   "execution_count": 17,
   "metadata": {},
   "outputs": [
    {
     "data": {
      "image/png": "[encoded data removed]",
      "text/plain": [
       "<Figure size 720x720 with 4 Axes>"
      ]
     },
     "metadata": {
      "needs_background": "light"
     },
     "output_type": "display_data"
    }
   ],
   "source": [
    "geo_data_2.iloc[:,1:].hist(figsize=(10, 10), bins=30)\n",
    "plt.suptitle(\"Диаграммы geo_data_2\");"
   ]
  },
  {
   "cell_type": "markdown",
   "metadata": {},
   "source": [
    "#### Корелляция"
   ]
  },
  {
   "cell_type": "code",
   "execution_count": 18,
   "metadata": {},
   "outputs": [],
   "source": [
    "# скорей всего она тут и не нужна, данные синтетические "
   ]
  },
  {
   "cell_type": "code",
   "execution_count": 19,
   "metadata": {},
   "outputs": [
    {
     "data": {
      "text/html": [
       "<div>\n",
       "<style scoped>\n",
       "    .dataframe tbody tr th:only-of-type {\n",
       "        vertical-align: middle;\n",
       "    }\n",
       "\n",
       "    .dataframe tbody tr th {\n",
       "        vertical-align: top;\n",
       "    }\n",
       "\n",
       "    .dataframe thead th {\n",
       "        text-align: right;\n",
       "    }\n",
       "</style>\n",
       "<table border=\"1\" class=\"dataframe\">\n",
       "  <thead>\n",
       "    <tr style=\"text-align: right;\">\n",
       "      <th></th>\n",
       "      <th>f0</th>\n",
       "      <th>f1</th>\n",
       "      <th>f2</th>\n",
       "      <th>product</th>\n",
       "    </tr>\n",
       "  </thead>\n",
       "  <tbody>\n",
       "    <tr>\n",
       "      <th>f0</th>\n",
       "      <td>1.000000</td>\n",
       "      <td>-0.440723</td>\n",
       "      <td>-0.003153</td>\n",
       "      <td>0.143536</td>\n",
       "    </tr>\n",
       "    <tr>\n",
       "      <th>f1</th>\n",
       "      <td>-0.440723</td>\n",
       "      <td>1.000000</td>\n",
       "      <td>0.001724</td>\n",
       "      <td>-0.192356</td>\n",
       "    </tr>\n",
       "    <tr>\n",
       "      <th>f2</th>\n",
       "      <td>-0.003153</td>\n",
       "      <td>0.001724</td>\n",
       "      <td>1.000000</td>\n",
       "      <td>0.483663</td>\n",
       "    </tr>\n",
       "    <tr>\n",
       "      <th>product</th>\n",
       "      <td>0.143536</td>\n",
       "      <td>-0.192356</td>\n",
       "      <td>0.483663</td>\n",
       "      <td>1.000000</td>\n",
       "    </tr>\n",
       "  </tbody>\n",
       "</table>\n",
       "</div>"
      ],
      "text/plain": [
       "               f0        f1        f2   product\n",
       "f0       1.000000 -0.440723 -0.003153  0.143536\n",
       "f1      -0.440723  1.000000  0.001724 -0.192356\n",
       "f2      -0.003153  0.001724  1.000000  0.483663\n",
       "product  0.143536 -0.192356  0.483663  1.000000"
      ]
     },
     "execution_count": 19,
     "metadata": {},
     "output_type": "execute_result"
    }
   ],
   "source": [
    "geo_data_0.corr()"
   ]
  },
  {
   "cell_type": "code",
   "execution_count": 20,
   "metadata": {},
   "outputs": [
    {
     "data": {
      "text/html": [
       "<div>\n",
       "<style scoped>\n",
       "    .dataframe tbody tr th:only-of-type {\n",
       "        vertical-align: middle;\n",
       "    }\n",
       "\n",
       "    .dataframe tbody tr th {\n",
       "        vertical-align: top;\n",
       "    }\n",
       "\n",
       "    .dataframe thead th {\n",
       "        text-align: right;\n",
       "    }\n",
       "</style>\n",
       "<table border=\"1\" class=\"dataframe\">\n",
       "  <thead>\n",
       "    <tr style=\"text-align: right;\">\n",
       "      <th></th>\n",
       "      <th>f0</th>\n",
       "      <th>f1</th>\n",
       "      <th>f2</th>\n",
       "      <th>product</th>\n",
       "    </tr>\n",
       "  </thead>\n",
       "  <tbody>\n",
       "    <tr>\n",
       "      <th>f0</th>\n",
       "      <td>1.000000</td>\n",
       "      <td>0.182287</td>\n",
       "      <td>-0.001777</td>\n",
       "      <td>-0.030491</td>\n",
       "    </tr>\n",
       "    <tr>\n",
       "      <th>f1</th>\n",
       "      <td>0.182287</td>\n",
       "      <td>1.000000</td>\n",
       "      <td>-0.002595</td>\n",
       "      <td>-0.010155</td>\n",
       "    </tr>\n",
       "    <tr>\n",
       "      <th>f2</th>\n",
       "      <td>-0.001777</td>\n",
       "      <td>-0.002595</td>\n",
       "      <td>1.000000</td>\n",
       "      <td>0.999397</td>\n",
       "    </tr>\n",
       "    <tr>\n",
       "      <th>product</th>\n",
       "      <td>-0.030491</td>\n",
       "      <td>-0.010155</td>\n",
       "      <td>0.999397</td>\n",
       "      <td>1.000000</td>\n",
       "    </tr>\n",
       "  </tbody>\n",
       "</table>\n",
       "</div>"
      ],
      "text/plain": [
       "               f0        f1        f2   product\n",
       "f0       1.000000  0.182287 -0.001777 -0.030491\n",
       "f1       0.182287  1.000000 -0.002595 -0.010155\n",
       "f2      -0.001777 -0.002595  1.000000  0.999397\n",
       "product -0.030491 -0.010155  0.999397  1.000000"
      ]
     },
     "execution_count": 20,
     "metadata": {},
     "output_type": "execute_result"
    }
   ],
   "source": [
    "geo_data_1.corr()"
   ]
  },
  {
   "cell_type": "code",
   "execution_count": 21,
   "metadata": {},
   "outputs": [
    {
     "data": {
      "text/html": [
       "<div>\n",
       "<style scoped>\n",
       "    .dataframe tbody tr th:only-of-type {\n",
       "        vertical-align: middle;\n",
       "    }\n",
       "\n",
       "    .dataframe tbody tr th {\n",
       "        vertical-align: top;\n",
       "    }\n",
       "\n",
       "    .dataframe thead th {\n",
       "        text-align: right;\n",
       "    }\n",
       "</style>\n",
       "<table border=\"1\" class=\"dataframe\">\n",
       "  <thead>\n",
       "    <tr style=\"text-align: right;\">\n",
       "      <th></th>\n",
       "      <th>f0</th>\n",
       "      <th>f1</th>\n",
       "      <th>f2</th>\n",
       "      <th>product</th>\n",
       "    </tr>\n",
       "  </thead>\n",
       "  <tbody>\n",
       "    <tr>\n",
       "      <th>f0</th>\n",
       "      <td>1.000000</td>\n",
       "      <td>0.000528</td>\n",
       "      <td>-0.000448</td>\n",
       "      <td>-0.001987</td>\n",
       "    </tr>\n",
       "    <tr>\n",
       "      <th>f1</th>\n",
       "      <td>0.000528</td>\n",
       "      <td>1.000000</td>\n",
       "      <td>0.000779</td>\n",
       "      <td>-0.001012</td>\n",
       "    </tr>\n",
       "    <tr>\n",
       "      <th>f2</th>\n",
       "      <td>-0.000448</td>\n",
       "      <td>0.000779</td>\n",
       "      <td>1.000000</td>\n",
       "      <td>0.445871</td>\n",
       "    </tr>\n",
       "    <tr>\n",
       "      <th>product</th>\n",
       "      <td>-0.001987</td>\n",
       "      <td>-0.001012</td>\n",
       "      <td>0.445871</td>\n",
       "      <td>1.000000</td>\n",
       "    </tr>\n",
       "  </tbody>\n",
       "</table>\n",
       "</div>"
      ],
      "text/plain": [
       "               f0        f1        f2   product\n",
       "f0       1.000000  0.000528 -0.000448 -0.001987\n",
       "f1       0.000528  1.000000  0.000779 -0.001012\n",
       "f2      -0.000448  0.000779  1.000000  0.445871\n",
       "product -0.001987 -0.001012  0.445871  1.000000"
      ]
     },
     "execution_count": 21,
     "metadata": {},
     "output_type": "execute_result"
    }
   ],
   "source": [
    "geo_data_2.corr()"
   ]
  },
  {
   "cell_type": "markdown",
   "metadata": {},
   "source": [
    "Выводы:\n",
    "* Типы данных и наименования, во всех датафреймах, указаны верно;\n",
    "* Пропусков, дубликатов не обнаружено;\n",
    "* В geo_data_1 в продуктах более 12% значений ровны 0;\n",
    "* Сильная корелляция у продукта с f2, особенно в geo_data_1;\n",
    "* Выбросы. В geo_data_0 присутствуют значения, выше средних в колонке f2. В geo_data_1 присутствуют значения, выше средних в колонке f1. В geo_data_2 присутствуют значения, выше средних в колонках f1, f2, f3. Product во всех трёх датасетах в пределах нормы."
   ]
  },
  {
   "cell_type": "markdown",
   "metadata": {},
   "source": [
    "## Обучение и проверка модели"
   ]
  },
  {
   "cell_type": "code",
   "execution_count": 22,
   "metadata": {},
   "outputs": [],
   "source": [
    "RANDOM_STATE = 42"
   ]
  },
  {
   "cell_type": "markdown",
   "metadata": {},
   "source": [
    "Функция для разбития на тренировочную и валидационную выборки"
   ]
  },
  {
   "cell_type": "code",
   "execution_count": 23,
   "metadata": {},
   "outputs": [],
   "source": [
    "def split_data(data):\n",
    "    future = data.drop(['id', 'product'], axis=1)\n",
    "    target = data['product']\n",
    "    \n",
    "    future_train, future_valid, target_train, target_valid = train_test_split(future, target, test_size=0.25, random_state=RANDOM_STATE, shuffle = True)\n",
    "    return future_train, future_valid, target_train, target_valid"
   ]
  },
  {
   "cell_type": "markdown",
   "metadata": {},
   "source": [
    "Разбиваем датасеты на тренировочную и валидационную выборки"
   ]
  },
  {
   "cell_type": "code",
   "execution_count": 24,
   "metadata": {},
   "outputs": [],
   "source": [
    "future_train_0, future_valid_0, target_train_0, target_valid_0 = split_data(geo_data_0)\n",
    "future_train_1, future_valid_1, target_train_1, target_valid_1 = split_data(geo_data_1)\n",
    "future_train_2, future_valid_2, target_train_2, target_valid_2 = split_data(geo_data_2)"
   ]
  },
  {
   "cell_type": "markdown",
   "metadata": {},
   "source": [
    "Обучим модель линейной регрессии"
   ]
  },
  {
   "cell_type": "code",
   "execution_count": 25,
   "metadata": {},
   "outputs": [],
   "source": [
    "lr = LinearRegression()"
   ]
  },
  {
   "cell_type": "code",
   "execution_count": 26,
   "metadata": {},
   "outputs": [],
   "source": [
    "def model_lr(future_train, future_valid, target_train, target_valid):\n",
    "    lr.fit(future_train, target_train)\n",
    "    predicted_valid = lr.predict(future_valid)\n",
    "    \n",
    "    mse = mean_squared_error(target_valid, predicted_valid)\n",
    "    rmse = mean_squared_error(target_valid, predicted_valid)**0.5\n",
    "    mean_sum = predicted_valid.sum()/len(predicted_valid)\n",
    "    return mse, rmse, mean_sum, predicted_valid"
   ]
  },
  {
   "cell_type": "code",
   "execution_count": 27,
   "metadata": {},
   "outputs": [],
   "source": [
    "mse_0, rmse_0, mean_sum_0, predicted_valid_0 = model_lr(future_train_0, future_valid_0, target_train_0, target_valid_0)\n",
    "mse_1, rmse_1, mean_sum_1, predicted_valid_1 = model_lr(future_train_1, future_valid_1, target_train_1, target_valid_1)\n",
    "mse_2, rmse_2, mean_sum_2, predicted_valid_2 = model_lr(future_train_2, future_valid_2, target_train_2, target_valid_2)"
   ]
  },
  {
   "cell_type": "code",
   "execution_count": 28,
   "metadata": {},
   "outputs": [
    {
     "name": "stdout",
     "output_type": "stream",
     "text": [
      "Регион geo_data_0: метрика MSE составляет 1425.56, метрика RMSE составляет 37.76, Средний запас сырья 92.40\n",
      "Регион geo_data_1: метрика MSE составляет 0.79, метрика RMSE составляет 0.89, Средний запас сырья 68.71\n",
      "Регион geo_data_2: метрика MSE составляет 1611.69, метрика RMSE составляет 40.15, Средний запас сырья 94.77\n"
     ]
    }
   ],
   "source": [
    "print(f'Регион geo_data_0: метрика MSE составляет {mse_0:.2f}, метрика RMSE составляет {rmse_0:.2f}, Средний запас сырья {mean_sum_0:.2f}')\n",
    "print(f'Регион geo_data_1: метрика MSE составляет {mse_1:.2f}, метрика RMSE составляет {rmse_1:.2f}, Средний запас сырья {mean_sum_1:.2f}')\n",
    "print(f'Регион geo_data_2: метрика MSE составляет {mse_2:.2f}, метрика RMSE составляет {rmse_2:.2f}, Средний запас сырья {mean_sum_2:.2f}')"
   ]
  },
  {
   "cell_type": "markdown",
   "metadata": {},
   "source": [
    "Вывод: лучше всего данные по geo_data_1, скорей всего из-за высокой корелляции между f2 и product"
   ]
  },
  {
   "cell_type": "markdown",
   "metadata": {},
   "source": [
    "## Подготовка к расчёту прибыли"
   ]
  },
  {
   "cell_type": "markdown",
   "metadata": {},
   "source": [
    "При разведке региона исследуют 500 точек, из которых с помощью машинного обучения выбирают 200 лучших для разработки. \\\n",
    "Бюджет на разработку скважин в регионе — 10 млрд рублей. \\\n",
    "При нынешних ценах один баррель сырья приносит 450 рублей дохода. Доход с каждой единицы продукта составляет 450 тыс. рублей, поскольку объём указан в тысячах баррелей."
   ]
  },
  {
   "cell_type": "markdown",
   "metadata": {},
   "source": [
    "### Объём сырья для бузубыточной разработки месторождения"
   ]
  },
  {
   "cell_type": "code",
   "execution_count": 29,
   "metadata": {},
   "outputs": [],
   "source": [
    "money = 10000000000\n",
    "money_barrel = 450000\n",
    "well = 200\n",
    "well_max = 500\n",
    "PRODUCT_UNITS_INCOME_RUB = 450 * 10**3"
   ]
  },
  {
   "cell_type": "code",
   "execution_count": 30,
   "metadata": {},
   "outputs": [
    {
     "name": "stdout",
     "output_type": "stream",
     "text": [
      "Объём сырья для безубыточной разработки новой скважины: 111.11 баррель\n"
     ]
    }
   ],
   "source": [
    "raw_materials = money/money_barrel/well \n",
    "print(f'Объём сырья для безубыточной разработки новой скважины: {raw_materials:.2f} баррель')"
   ]
  },
  {
   "cell_type": "code",
   "execution_count": 31,
   "metadata": {},
   "outputs": [
    {
     "name": "stdout",
     "output_type": "stream",
     "text": [
      "Объём сырья для безубыточной разработки новой скважины в geo_data_0: -18.71 баррель\n",
      "Объём сырья для безубыточной разработки новой скважины в geo_data_1: -42.40 баррель\n",
      "Объём сырья для безубыточной разработки новой скважины в geo_data_2: -16.34 баррель\n"
     ]
    }
   ],
   "source": [
    "print(f'Объём сырья для безубыточной разработки новой скважины в geo_data_0: {mean_sum_0 - raw_materials:.2f} баррель')\n",
    "print(f'Объём сырья для безубыточной разработки новой скважины в geo_data_1: {mean_sum_1 - raw_materials:.2f} баррель')\n",
    "print(f'Объём сырья для безубыточной разработки новой скважины в geo_data_2: {mean_sum_2 - raw_materials:.2f} баррель')"
   ]
  },
  {
   "cell_type": "code",
   "execution_count": 32,
   "metadata": {},
   "outputs": [
    {
     "data": {
      "text/plain": [
       "[0.35901]"
      ]
     },
     "metadata": {},
     "output_type": "display_data"
    },
    {
     "data": {
      "text/plain": [
       "[0.16537]"
      ]
     },
     "metadata": {},
     "output_type": "display_data"
    },
    {
     "data": {
      "text/plain": [
       "[0.37491]"
      ]
     },
     "metadata": {},
     "output_type": "display_data"
    }
   ],
   "source": [
    "geo_data_0_good_product = ((geo_data_0.iloc[:,4:].query('product > 112').count())/len(geo_data_0)).to_list()\n",
    "geo_data_1_good_product = ((geo_data_1.iloc[:,4:].query('product > 112').count())/len(geo_data_1)).to_list()\n",
    "geo_data_2_good_product = ((geo_data_2.iloc[:,4:].query('product > 112').count())/len(geo_data_2)).to_list()\n",
    "\n",
    "display(geo_data_0_good_product)\n",
    "display(geo_data_1_good_product)\n",
    "display(geo_data_2_good_product)"
   ]
  },
  {
   "cell_type": "markdown",
   "metadata": {},
   "source": [
    "Вывод: Объём сырья для безубыточной разработки новой скважины равен чуть больше 111 баррелей, все локации не дотягивают до необходимых значений, больше всех в geo_data_1 \\\n",
    "geo_data_0 содержит 35.9% скважин с запасами нефти более 111 тысяч баррель. \\\n",
    "geo_data_1 содержит 16.5% скважин с запасами нефти более 111 тысяч баррель. \\\n",
    "geo_data_2 содержит 37.4% скважин с запасами нефти более 111 тысяч баррель."
   ]
  },
  {
   "cell_type": "markdown",
   "metadata": {},
   "source": [
    "## Расчёт прибыли и рисков "
   ]
  },
  {
   "cell_type": "markdown",
   "metadata": {},
   "source": [
    "приведем целевые и прогнозные значения по всем регионам к одному типу"
   ]
  },
  {
   "cell_type": "code",
   "execution_count": 33,
   "metadata": {},
   "outputs": [],
   "source": [
    "def series_type(target, predicted):\n",
    "    target = target.reset_index(drop=True)\n",
    "    predicted = pd.Series(predicted)\n",
    "    return target, predicted"
   ]
  },
  {
   "cell_type": "code",
   "execution_count": 34,
   "metadata": {},
   "outputs": [],
   "source": [
    "target_valid_0, predicted_valid_0 = series_type(target_valid_0, predicted_valid_0)\n",
    "target_valid_1, predicted_valid_1 = series_type(target_valid_1, predicted_valid_1)\n",
    "target_valid_2, predicted_valid_2 = series_type(target_valid_2, predicted_valid_2)"
   ]
  },
  {
   "cell_type": "markdown",
   "metadata": {},
   "source": [
    "Функция подсчета прибыли для выбранных скважин."
   ]
  },
  {
   "cell_type": "code",
   "execution_count": 35,
   "metadata": {},
   "outputs": [],
   "source": [
    "def revenue(target, predictions, cost, count):\n",
    "    probs_sorted = predictions.sort_values(ascending=False)\n",
    "    deposits = target[probs_sorted.index][:count]\n",
    "    return cost * deposits.sum() - money"
   ]
  },
  {
   "cell_type": "markdown",
   "metadata": {},
   "source": [
    "Функция, в которой сгенерируем 1000 выборок, чтобы найти распределение прибыли"
   ]
  },
  {
   "cell_type": "code",
   "execution_count": 36,
   "metadata": {},
   "outputs": [],
   "source": [
    "def bootstrap(target, predictions):\n",
    "    state = np.random.RandomState(12345)\n",
    "\n",
    "    values = []\n",
    "    for i in range(1000):\n",
    "        some_target = target.sample(n = well_max, replace = True, random_state = state)\n",
    "        some_predictions = predictions[some_target.index]\n",
    "\n",
    "        values.append(revenue(some_target, some_predictions, money_barrel, well))\n",
    "\n",
    "    values = pd.Series(values)\n",
    "    values_mean = round(int(values.mean()),2)\n",
    "    lower = values.quantile(q=0.025)\n",
    "    upper = values.quantile(q=0.975)\n",
    "    risk = int(len(values[values <0]) / len(values)*100)\n",
    "    return values_mean, lower, upper, risk"
   ]
  },
  {
   "cell_type": "code",
   "execution_count": 37,
   "metadata": {},
   "outputs": [],
   "source": [
    "values_mean_0, lower_0, upper_0, risk_0 = bootstrap(target_valid_0, predicted_valid_0)\n",
    "values_mean_1, lower_1, upper_1, risk_1 = bootstrap(target_valid_1, predicted_valid_1)\n",
    "values_mean_2, lower_2, upper_2, risk_2 = bootstrap(target_valid_2, predicted_valid_2)"
   ]
  },
  {
   "cell_type": "code",
   "execution_count": 38,
   "metadata": {},
   "outputs": [
    {
     "name": "stdout",
     "output_type": "stream",
     "text": [
      "Средняя прибыль лучших месторождений geo_data_0 равна: 435933772\n",
      "Средняя прибыль лучших месторождений geo_data_1 равна: 489661254\n",
      "Средняя прибыль лучших месторождений geo_data_2 равна: 403687927\n"
     ]
    }
   ],
   "source": [
    "print('Средняя прибыль лучших месторождений geo_data_0 равна:', values_mean_0)\n",
    "print('Средняя прибыль лучших месторождений geo_data_1 равна:', values_mean_1)\n",
    "print('Средняя прибыль лучших месторождений geo_data_2 равна:', values_mean_2)"
   ]
  },
  {
   "cell_type": "code",
   "execution_count": 39,
   "metadata": {},
   "outputs": [
    {
     "name": "stdout",
     "output_type": "stream",
     "text": [
      "95% доверительный интервал для средней прибыли 200 лучших месторождений geo_data_0: -116231612.78 - 966504180.71\n",
      "95% доверительный интервал для средней прибыли 200 лучших месторождений geo_data_1: 55116177.27 - 905762650.42\n",
      "95% доверительный интервал для средней прибыли 200 лучших месторождений geo_data_2: -153116984.76 - 952887416.71\n"
     ]
    }
   ],
   "source": [
    "print(f'95% доверительный интервал для средней прибыли 200 лучших месторождений geo_data_0: {round(lower_0,2)} - {round(upper_0,2)}')\n",
    "print(f'95% доверительный интервал для средней прибыли 200 лучших месторождений geo_data_1: {round(lower_1,2)} - {round(upper_1,2)}')\n",
    "print(f'95% доверительный интервал для средней прибыли 200 лучших месторождений geo_data_2: {round(lower_2,2)} - {round(upper_2,2)}')"
   ]
  },
  {
   "cell_type": "code",
   "execution_count": 40,
   "metadata": {},
   "outputs": [
    {
     "name": "stdout",
     "output_type": "stream",
     "text": [
      "Риск убытков geo_data_0 равен: 6%\n",
      "Риск убытков geo_data_1 равен: 1%\n",
      "Риск убытков geo_data_2 равен: 7%\n"
     ]
    }
   ],
   "source": [
    "print(f'Риск убытков geo_data_0 равен: {risk_0}%')\n",
    "print(f'Риск убытков geo_data_1 равен: {risk_1}%')\n",
    "print(f'Риск убытков geo_data_2 равен: {risk_2}%')"
   ]
  },
  {
   "cell_type": "markdown",
   "metadata": {},
   "source": [
    "## Вывод"
   ]
  },
  {
   "cell_type": "markdown",
   "metadata": {},
   "source": [
    "В рамках исследований трёх месторождений для добычи полезных ископаемых была проведена работу по подготовке данных: \\ \n",
    "проверены все входные данные и признаки, изучены пропуски, дубликаты и уникальные значения - особых проблем выявленно не было.\n",
    "* Присутствуют небольшие выбросы в geo_data_0 (колонка f2), geo_data_1 (колонка f1), geo_data_2 (во всех колонках).\n",
    "* Корелляция показала сильную зависимость в таблице geo_data_1 между product и f2\n",
    "\n",
    "Построили модель линейной регрессии, целевым признаком выбрали Product. Метрики для анализа выбрали RMSE (среднеквадратическая ошибка) и MSE(среднеквадратическая ошибка), получились следующие данные:\n",
    "* Регион geo_data_0: метрика MSE составляет 1425.56, метрика RMSE составляет 37.76, Средний запас сырья 92.40\n",
    "* Регион geo_data_1: метрика MSE составляет 0.79, метрика RMSE составляет 0.89, Средний запас сырья 68.71\n",
    "* Регион geo_data_2: метрика MSE составляет 1611.69, метрика RMSE составляет 40.15, Средний запас сырья 94.77 \\\n",
    "Лучше всего получились данные по geo_data_1\n",
    "\n",
    "Расчитали объём сырья для безубыточной разработки новой скважины, он составил 111.11 тысяч баррель\n",
    "* Объём сырья для безубыточной разработки новой скважины в geo_data_0: -18.71 баррель\n",
    "* Объём сырья для безубыточной разработки новой скважины в geo_data_1: -42.40 баррель\n",
    "* Объём сырья для безубыточной разработки новой скважины в geo_data_2: -16.34 баррель\n",
    "* geo_data_0 содержит 35.9% скважин с запасами нефти более 111 тысяч баррель. \n",
    "* geo_data_1 содержит 16.5% скважин с запасами нефти более 111 тысяч баррель. \n",
    "* geo_data_2 содержит 37.4% скважин с запасами нефти более 111 тысяч баррель.\n",
    "\n",
    "Написали функцию для подсчета прибыли для выбранных скважин(revenue). \\\n",
    "\n",
    "Посчитайли риски и прибыль для каждого региона\n",
    "* Средняя прибыль лучших месторождений geo_data_0 равна: 435933772\n",
    "* Средняя прибыль лучших месторождений geo_data_1 равна: 489661254\n",
    "* Средняя прибыль лучших месторождений geo_data_2 равна: 403687927\n",
    "\n",
    "\n",
    "* 95% доверительный интервал для средней прибыли 200 лучших месторождений geo_data_0: -116231612.78 - 966504180.71\n",
    "* 95% доверительный интервал для средней прибыли 200 лучших месторождений geo_data_1: 55116177.27 - 905762650.42\n",
    "* 95% доверительный интервал для средней прибыли 200 лучших месторождений geo_data_2: -153116984.76 - 952887416.71\n",
    "\n",
    "\n",
    "* Риск убытков geo_data_0 равен: 6%\n",
    "* Риск убытков geo_data_1 равен: 1%\n",
    "* Риск убытков geo_data_2 равен: 7%\n",
    "\n",
    "\n",
    "Делая общий вывод можно выделить регион geo_data_1, он имеет самую высокую средную прибыль (489661254), меньше всех риск убытков (1%), а так же самый низний разброс в доверительном интервале."
   ]
  }
 ],
 "metadata": {
  "ExecuteTimeLog": [
   {
    "duration": 57,
    "start_time": "2023-11-12T13:35:01.525Z"
   },
   {
    "duration": 6,
    "start_time": "2023-11-12T13:35:02.879Z"
   },
   {
    "duration": 1534,
    "start_time": "2023-11-12T13:35:04.175Z"
   },
   {
    "duration": 72,
    "start_time": "2023-11-12T13:35:05.710Z"
   },
   {
    "duration": 0,
    "start_time": "2023-11-12T13:35:05.784Z"
   },
   {
    "duration": 392,
    "start_time": "2023-11-12T13:35:13.511Z"
   },
   {
    "duration": 18,
    "start_time": "2023-11-12T13:35:14.429Z"
   },
   {
    "duration": 532,
    "start_time": "2023-11-12T13:35:46.823Z"
   },
   {
    "duration": 34,
    "start_time": "2023-11-12T13:35:47.356Z"
   },
   {
    "duration": 49,
    "start_time": "2023-11-12T13:39:06.698Z"
   },
   {
    "duration": 6,
    "start_time": "2023-11-12T13:39:17.232Z"
   },
   {
    "duration": 1176,
    "start_time": "2023-11-12T13:39:22.041Z"
   },
   {
    "duration": 388,
    "start_time": "2023-11-12T13:39:23.219Z"
   },
   {
    "duration": 33,
    "start_time": "2023-11-12T13:39:23.610Z"
   },
   {
    "duration": 103,
    "start_time": "2023-11-12T13:39:23.645Z"
   },
   {
    "duration": 8,
    "start_time": "2023-11-12T13:40:23.427Z"
   },
   {
    "duration": 23,
    "start_time": "2023-11-12T13:40:30.556Z"
   },
   {
    "duration": 37,
    "start_time": "2023-11-12T13:41:00.792Z"
   },
   {
    "duration": 14,
    "start_time": "2023-11-12T13:41:11.501Z"
   },
   {
    "duration": 47,
    "start_time": "2023-11-12T13:41:28.675Z"
   },
   {
    "duration": 1271,
    "start_time": "2023-11-12T13:47:20.945Z"
   },
   {
    "duration": 1654,
    "start_time": "2023-11-12T13:47:22.218Z"
   },
   {
    "duration": 34,
    "start_time": "2023-11-12T13:47:23.873Z"
   },
   {
    "duration": 38,
    "start_time": "2023-11-12T13:47:23.910Z"
   },
   {
    "duration": 54,
    "start_time": "2023-11-12T13:47:23.950Z"
   },
   {
    "duration": 96,
    "start_time": "2023-11-12T13:47:31.807Z"
   },
   {
    "duration": 13,
    "start_time": "2023-11-12T13:47:50.694Z"
   },
   {
    "duration": 75,
    "start_time": "2023-11-12T13:48:09.369Z"
   },
   {
    "duration": 38,
    "start_time": "2023-11-12T13:48:14.835Z"
   },
   {
    "duration": 120,
    "start_time": "2023-11-12T13:49:57.234Z"
   },
   {
    "duration": 42,
    "start_time": "2023-11-12T13:51:26.373Z"
   },
   {
    "duration": 49,
    "start_time": "2023-11-12T13:51:45.391Z"
   },
   {
    "duration": 41,
    "start_time": "2023-11-12T13:51:52.747Z"
   },
   {
    "duration": 114,
    "start_time": "2023-11-12T13:52:07.375Z"
   },
   {
    "duration": 43,
    "start_time": "2023-11-12T13:54:05.689Z"
   },
   {
    "duration": 153,
    "start_time": "2023-11-12T13:54:56.979Z"
   },
   {
    "duration": 167,
    "start_time": "2023-11-12T13:56:09.649Z"
   },
   {
    "duration": 5,
    "start_time": "2023-11-12T13:56:48.651Z"
   },
   {
    "duration": 15,
    "start_time": "2023-11-12T13:57:02.458Z"
   },
   {
    "duration": 1089,
    "start_time": "2023-11-12T13:57:09.004Z"
   },
   {
    "duration": 5,
    "start_time": "2023-11-12T13:57:45.376Z"
   },
   {
    "duration": 15,
    "start_time": "2023-11-12T13:58:24.691Z"
   },
   {
    "duration": 4,
    "start_time": "2023-11-12T13:59:18.022Z"
   },
   {
    "duration": 3,
    "start_time": "2023-11-12T14:00:55.657Z"
   },
   {
    "duration": 14,
    "start_time": "2023-11-12T14:01:42.351Z"
   },
   {
    "duration": 12,
    "start_time": "2023-11-12T14:01:49.417Z"
   },
   {
    "duration": 12,
    "start_time": "2023-11-12T14:01:56.060Z"
   },
   {
    "duration": 22,
    "start_time": "2023-11-12T14:02:59.163Z"
   },
   {
    "duration": 20,
    "start_time": "2023-11-12T14:03:07.641Z"
   },
   {
    "duration": 36,
    "start_time": "2023-11-12T14:04:45.808Z"
   },
   {
    "duration": 228,
    "start_time": "2023-11-12T14:04:53.321Z"
   },
   {
    "duration": 189,
    "start_time": "2023-11-12T14:05:06.118Z"
   },
   {
    "duration": 160,
    "start_time": "2023-11-12T14:05:24.062Z"
   },
   {
    "duration": 165,
    "start_time": "2023-11-12T14:05:28.050Z"
   },
   {
    "duration": 11,
    "start_time": "2023-11-12T14:06:16.413Z"
   },
   {
    "duration": 14,
    "start_time": "2023-11-12T14:06:24.926Z"
   },
   {
    "duration": 186,
    "start_time": "2023-11-12T14:06:31.338Z"
   },
   {
    "duration": 18,
    "start_time": "2023-11-12T14:06:42.740Z"
   },
   {
    "duration": 135,
    "start_time": "2023-11-12T14:06:47.331Z"
   },
   {
    "duration": 194,
    "start_time": "2023-11-12T14:07:01.556Z"
   },
   {
    "duration": 168,
    "start_time": "2023-11-12T14:09:34.602Z"
   },
   {
    "duration": 233,
    "start_time": "2023-11-12T14:09:41.099Z"
   },
   {
    "duration": 134,
    "start_time": "2023-11-12T14:09:45.132Z"
   },
   {
    "duration": 172,
    "start_time": "2023-11-12T14:09:56.221Z"
   },
   {
    "duration": 309,
    "start_time": "2023-11-12T14:10:08.059Z"
   },
   {
    "duration": 302,
    "start_time": "2023-11-12T14:11:00.370Z"
   },
   {
    "duration": 327,
    "start_time": "2023-11-12T14:11:19.237Z"
   },
   {
    "duration": 307,
    "start_time": "2023-11-12T14:11:42.438Z"
   },
   {
    "duration": 627,
    "start_time": "2023-11-12T14:18:02.824Z"
   },
   {
    "duration": 592,
    "start_time": "2023-11-12T14:18:16.744Z"
   },
   {
    "duration": 557,
    "start_time": "2023-11-12T14:18:23.958Z"
   },
   {
    "duration": 634,
    "start_time": "2023-11-12T14:19:00.929Z"
   },
   {
    "duration": 530,
    "start_time": "2023-11-12T14:19:24.348Z"
   },
   {
    "duration": 533,
    "start_time": "2023-11-12T14:19:28.483Z"
   },
   {
    "duration": 551,
    "start_time": "2023-11-12T14:19:53.614Z"
   },
   {
    "duration": 627,
    "start_time": "2023-11-12T14:19:58.908Z"
   },
   {
    "duration": 536,
    "start_time": "2023-11-12T14:20:17.587Z"
   },
   {
    "duration": 579,
    "start_time": "2023-11-12T14:20:36.672Z"
   },
   {
    "duration": 534,
    "start_time": "2023-11-12T14:20:37.324Z"
   },
   {
    "duration": 10,
    "start_time": "2023-11-12T14:22:18.064Z"
   },
   {
    "duration": 16,
    "start_time": "2023-11-12T14:22:21.285Z"
   },
   {
    "duration": 17,
    "start_time": "2023-11-12T14:22:42.809Z"
   },
   {
    "duration": 14,
    "start_time": "2023-11-12T14:22:43.183Z"
   },
   {
    "duration": 3,
    "start_time": "2023-11-12T14:22:54.759Z"
   },
   {
    "duration": 20,
    "start_time": "2023-11-12T14:22:58.793Z"
   },
   {
    "duration": 16,
    "start_time": "2023-11-12T14:22:59.353Z"
   },
   {
    "duration": 17,
    "start_time": "2023-11-12T14:22:59.680Z"
   },
   {
    "duration": 2,
    "start_time": "2023-11-12T14:23:37.539Z"
   },
   {
    "duration": 2,
    "start_time": "2023-11-12T14:23:43.409Z"
   },
   {
    "duration": 1446,
    "start_time": "2023-11-13T14:20:44.154Z"
   },
   {
    "duration": 820,
    "start_time": "2023-11-13T14:20:45.602Z"
   },
   {
    "duration": 36,
    "start_time": "2023-11-13T14:20:46.423Z"
   },
   {
    "duration": 42,
    "start_time": "2023-11-13T14:20:46.461Z"
   },
   {
    "duration": 162,
    "start_time": "2023-11-13T14:20:46.505Z"
   },
   {
    "duration": 29,
    "start_time": "2023-11-13T14:20:46.669Z"
   },
   {
    "duration": 180,
    "start_time": "2023-11-13T14:20:46.699Z"
   },
   {
    "duration": 193,
    "start_time": "2023-11-13T14:20:46.881Z"
   },
   {
    "duration": 7,
    "start_time": "2023-11-13T14:20:47.076Z"
   },
   {
    "duration": 18,
    "start_time": "2023-11-13T14:20:47.085Z"
   },
   {
    "duration": 4,
    "start_time": "2023-11-13T14:20:47.105Z"
   },
   {
    "duration": 376,
    "start_time": "2023-11-13T14:20:47.110Z"
   },
   {
    "duration": 354,
    "start_time": "2023-11-13T14:20:47.488Z"
   },
   {
    "duration": 344,
    "start_time": "2023-11-13T14:20:47.845Z"
   },
   {
    "duration": 644,
    "start_time": "2023-11-13T14:20:48.190Z"
   },
   {
    "duration": 648,
    "start_time": "2023-11-13T14:20:48.836Z"
   },
   {
    "duration": 589,
    "start_time": "2023-11-13T14:20:49.486Z"
   },
   {
    "duration": 3,
    "start_time": "2023-11-13T14:20:50.076Z"
   },
   {
    "duration": 37,
    "start_time": "2023-11-13T14:20:50.081Z"
   },
   {
    "duration": 16,
    "start_time": "2023-11-13T14:20:50.119Z"
   },
   {
    "duration": 17,
    "start_time": "2023-11-13T14:20:50.137Z"
   },
   {
    "duration": 108,
    "start_time": "2023-11-13T14:25:31.973Z"
   },
   {
    "duration": 3,
    "start_time": "2023-11-13T14:25:38.929Z"
   },
   {
    "duration": 303,
    "start_time": "2023-11-13T14:32:34.020Z"
   },
   {
    "duration": 14,
    "start_time": "2023-11-13T14:32:59.074Z"
   },
   {
    "duration": 2,
    "start_time": "2023-11-13T14:37:39.343Z"
   },
   {
    "duration": 3,
    "start_time": "2023-11-13T14:37:39.708Z"
   },
   {
    "duration": 20,
    "start_time": "2023-11-13T14:38:40.972Z"
   },
   {
    "duration": 11,
    "start_time": "2023-11-13T14:39:02.360Z"
   },
   {
    "duration": 3,
    "start_time": "2023-11-13T14:39:07.077Z"
   },
   {
    "duration": 17,
    "start_time": "2023-11-13T14:39:07.366Z"
   },
   {
    "duration": 13,
    "start_time": "2023-11-13T14:39:12.082Z"
   },
   {
    "duration": 12,
    "start_time": "2023-11-13T14:39:15.897Z"
   },
   {
    "duration": 3,
    "start_time": "2023-11-13T14:40:42.292Z"
   },
   {
    "duration": 3,
    "start_time": "2023-11-13T14:42:28.421Z"
   },
   {
    "duration": 49,
    "start_time": "2023-11-13T14:44:08.548Z"
   },
   {
    "duration": 3,
    "start_time": "2023-11-13T14:48:37.845Z"
   },
   {
    "duration": 23,
    "start_time": "2023-11-13T14:49:09.103Z"
   },
   {
    "duration": 3,
    "start_time": "2023-11-13T14:49:32.114Z"
   },
   {
    "duration": 23,
    "start_time": "2023-11-13T14:49:32.915Z"
   },
   {
    "duration": 3,
    "start_time": "2023-11-13T14:50:05.092Z"
   },
   {
    "duration": 24,
    "start_time": "2023-11-13T14:50:05.740Z"
   },
   {
    "duration": 1451,
    "start_time": "2023-11-13T14:50:20.604Z"
   },
   {
    "duration": 429,
    "start_time": "2023-11-13T14:50:22.056Z"
   },
   {
    "duration": 36,
    "start_time": "2023-11-13T14:50:22.486Z"
   },
   {
    "duration": 65,
    "start_time": "2023-11-13T14:50:22.524Z"
   },
   {
    "duration": 154,
    "start_time": "2023-11-13T14:50:22.591Z"
   },
   {
    "duration": 40,
    "start_time": "2023-11-13T14:50:22.746Z"
   },
   {
    "duration": 180,
    "start_time": "2023-11-13T14:50:22.788Z"
   },
   {
    "duration": 184,
    "start_time": "2023-11-13T14:50:22.970Z"
   },
   {
    "duration": 6,
    "start_time": "2023-11-13T14:50:23.165Z"
   },
   {
    "duration": 23,
    "start_time": "2023-11-13T14:50:23.172Z"
   },
   {
    "duration": 3,
    "start_time": "2023-11-13T14:50:23.196Z"
   },
   {
    "duration": 365,
    "start_time": "2023-11-13T14:50:23.200Z"
   },
   {
    "duration": 355,
    "start_time": "2023-11-13T14:50:23.567Z"
   },
   {
    "duration": 416,
    "start_time": "2023-11-13T14:50:23.925Z"
   },
   {
    "duration": 560,
    "start_time": "2023-11-13T14:50:24.343Z"
   },
   {
    "duration": 625,
    "start_time": "2023-11-13T14:50:24.905Z"
   },
   {
    "duration": 598,
    "start_time": "2023-11-13T14:50:25.532Z"
   },
   {
    "duration": 2,
    "start_time": "2023-11-13T14:50:26.132Z"
   },
   {
    "duration": 37,
    "start_time": "2023-11-13T14:50:26.136Z"
   },
   {
    "duration": 14,
    "start_time": "2023-11-13T14:50:26.175Z"
   },
   {
    "duration": 22,
    "start_time": "2023-11-13T14:50:26.190Z"
   },
   {
    "duration": 3,
    "start_time": "2023-11-13T14:50:26.213Z"
   },
   {
    "duration": 20,
    "start_time": "2023-11-13T14:50:26.217Z"
   },
   {
    "duration": 133,
    "start_time": "2023-11-13T14:50:26.239Z"
   },
   {
    "duration": 0,
    "start_time": "2023-11-13T14:50:26.374Z"
   },
   {
    "duration": 4,
    "start_time": "2023-11-13T14:51:21.658Z"
   },
   {
    "duration": 17,
    "start_time": "2023-11-13T14:51:22.491Z"
   },
   {
    "duration": 3,
    "start_time": "2023-11-13T14:52:11.847Z"
   },
   {
    "duration": 22,
    "start_time": "2023-11-13T14:52:12.512Z"
   },
   {
    "duration": 23,
    "start_time": "2023-11-13T14:52:31.754Z"
   },
   {
    "duration": 25,
    "start_time": "2023-11-13T14:53:25.915Z"
   },
   {
    "duration": 4,
    "start_time": "2023-11-13T14:53:30.509Z"
   },
   {
    "duration": 22,
    "start_time": "2023-11-13T14:53:31.435Z"
   },
   {
    "duration": 4,
    "start_time": "2023-11-13T14:53:46.616Z"
   },
   {
    "duration": 20,
    "start_time": "2023-11-13T14:53:47.295Z"
   },
   {
    "duration": 10,
    "start_time": "2023-11-13T14:53:51.849Z"
   },
   {
    "duration": 11,
    "start_time": "2023-11-13T14:53:56.605Z"
   },
   {
    "duration": 7,
    "start_time": "2023-11-13T14:54:00.590Z"
   },
   {
    "duration": 6,
    "start_time": "2023-11-13T14:54:09.500Z"
   },
   {
    "duration": 36,
    "start_time": "2023-11-13T14:54:55.516Z"
   },
   {
    "duration": 6,
    "start_time": "2023-11-13T14:54:56.482Z"
   },
   {
    "duration": 6,
    "start_time": "2023-11-13T14:54:59.000Z"
   },
   {
    "duration": 9,
    "start_time": "2023-11-13T14:56:57.064Z"
   },
   {
    "duration": 24,
    "start_time": "2023-11-13T14:57:13.876Z"
   },
   {
    "duration": 2,
    "start_time": "2023-11-13T14:57:19.014Z"
   },
   {
    "duration": 11,
    "start_time": "2023-11-13T14:57:51.388Z"
   },
   {
    "duration": 4,
    "start_time": "2023-11-13T15:02:38.312Z"
   },
   {
    "duration": 22,
    "start_time": "2023-11-13T15:03:25.330Z"
   },
   {
    "duration": 4,
    "start_time": "2023-11-13T15:03:42.720Z"
   },
   {
    "duration": 3,
    "start_time": "2023-11-13T15:03:43.251Z"
   },
   {
    "duration": 19,
    "start_time": "2023-11-13T15:03:43.829Z"
   },
   {
    "duration": 3,
    "start_time": "2023-11-13T15:04:00.797Z"
   },
   {
    "duration": 3,
    "start_time": "2023-11-13T15:04:01.150Z"
   },
   {
    "duration": 26,
    "start_time": "2023-11-13T15:04:01.448Z"
   },
   {
    "duration": 4,
    "start_time": "2023-11-13T15:04:14.493Z"
   },
   {
    "duration": 13,
    "start_time": "2023-11-13T15:04:18.699Z"
   },
   {
    "duration": 4,
    "start_time": "2023-11-13T15:04:27.293Z"
   },
   {
    "duration": 4,
    "start_time": "2023-11-13T15:04:30.277Z"
   },
   {
    "duration": 3,
    "start_time": "2023-11-13T15:06:36.969Z"
   },
   {
    "duration": 50,
    "start_time": "2023-11-13T15:06:37.315Z"
   },
   {
    "duration": 4,
    "start_time": "2023-11-13T15:06:37.803Z"
   },
   {
    "duration": 4,
    "start_time": "2023-11-13T15:06:38.497Z"
   },
   {
    "duration": 4,
    "start_time": "2023-11-13T15:06:41.563Z"
   },
   {
    "duration": 11,
    "start_time": "2023-11-13T15:09:02.121Z"
   },
   {
    "duration": 4,
    "start_time": "2023-11-13T15:09:16.335Z"
   },
   {
    "duration": 4,
    "start_time": "2023-11-13T15:11:30.124Z"
   },
   {
    "duration": 4,
    "start_time": "2023-11-13T15:12:05.865Z"
   },
   {
    "duration": 77,
    "start_time": "2023-11-13T15:12:24.628Z"
   },
   {
    "duration": 5,
    "start_time": "2023-11-13T15:12:31.627Z"
   },
   {
    "duration": 5,
    "start_time": "2023-11-13T15:12:55.399Z"
   },
   {
    "duration": 5,
    "start_time": "2023-11-13T15:13:02.532Z"
   },
   {
    "duration": 13,
    "start_time": "2023-11-13T15:13:20.816Z"
   },
   {
    "duration": 204,
    "start_time": "2023-11-13T15:13:33.969Z"
   },
   {
    "duration": 7,
    "start_time": "2023-11-13T15:13:35.014Z"
   },
   {
    "duration": 4,
    "start_time": "2023-11-13T15:27:36.430Z"
   },
   {
    "duration": 5,
    "start_time": "2023-11-13T15:28:09.747Z"
   },
   {
    "duration": 3,
    "start_time": "2023-11-13T15:30:06.346Z"
   },
   {
    "duration": 3,
    "start_time": "2023-11-13T15:30:20.654Z"
   },
   {
    "duration": 3,
    "start_time": "2023-11-13T15:30:26.647Z"
   },
   {
    "duration": 3,
    "start_time": "2023-11-13T15:30:29.778Z"
   },
   {
    "duration": 3,
    "start_time": "2023-11-13T15:30:33.450Z"
   },
   {
    "duration": 4,
    "start_time": "2023-11-13T15:30:48.297Z"
   },
   {
    "duration": 4,
    "start_time": "2023-11-13T15:30:54.235Z"
   },
   {
    "duration": 4,
    "start_time": "2023-11-13T15:31:09.467Z"
   },
   {
    "duration": 4,
    "start_time": "2023-11-13T15:31:17.094Z"
   },
   {
    "duration": 3,
    "start_time": "2023-11-13T15:31:32.040Z"
   },
   {
    "duration": 3,
    "start_time": "2023-11-13T15:31:38.752Z"
   },
   {
    "duration": 4,
    "start_time": "2023-11-13T15:32:38.597Z"
   },
   {
    "duration": 3,
    "start_time": "2023-11-13T15:33:43.195Z"
   },
   {
    "duration": 3,
    "start_time": "2023-11-13T15:34:04.530Z"
   },
   {
    "duration": 93,
    "start_time": "2023-11-13T15:41:05.079Z"
   },
   {
    "duration": 3,
    "start_time": "2023-11-13T15:41:16.671Z"
   },
   {
    "duration": 3,
    "start_time": "2023-11-13T15:41:48.097Z"
   },
   {
    "duration": 3,
    "start_time": "2023-11-13T15:42:06.816Z"
   },
   {
    "duration": 2,
    "start_time": "2023-11-13T15:42:23.544Z"
   },
   {
    "duration": 3,
    "start_time": "2023-11-13T15:43:28.037Z"
   },
   {
    "duration": 3,
    "start_time": "2023-11-13T15:43:34.476Z"
   },
   {
    "duration": 3,
    "start_time": "2023-11-13T15:43:44.968Z"
   },
   {
    "duration": 3,
    "start_time": "2023-11-13T15:43:52.167Z"
   },
   {
    "duration": 3,
    "start_time": "2023-11-13T15:43:58.593Z"
   },
   {
    "duration": 3,
    "start_time": "2023-11-13T15:44:05.453Z"
   },
   {
    "duration": 6,
    "start_time": "2023-11-13T15:44:17.314Z"
   },
   {
    "duration": 3,
    "start_time": "2023-11-13T15:44:38.049Z"
   },
   {
    "duration": 3,
    "start_time": "2023-11-13T15:44:43.820Z"
   },
   {
    "duration": 4,
    "start_time": "2023-11-13T15:44:48.670Z"
   },
   {
    "duration": 3,
    "start_time": "2023-11-13T15:44:56.253Z"
   },
   {
    "duration": 4,
    "start_time": "2023-11-13T15:45:03.501Z"
   },
   {
    "duration": 4,
    "start_time": "2023-11-13T15:45:24.940Z"
   },
   {
    "duration": 3,
    "start_time": "2023-11-13T15:45:29.168Z"
   },
   {
    "duration": 3,
    "start_time": "2023-11-13T15:45:34.391Z"
   },
   {
    "duration": 3,
    "start_time": "2023-11-13T15:45:42.723Z"
   },
   {
    "duration": 3,
    "start_time": "2023-11-13T15:45:50.551Z"
   },
   {
    "duration": 3,
    "start_time": "2023-11-13T15:46:06.696Z"
   },
   {
    "duration": 3,
    "start_time": "2023-11-13T15:46:24.680Z"
   },
   {
    "duration": 3,
    "start_time": "2023-11-13T15:46:30.888Z"
   },
   {
    "duration": 3,
    "start_time": "2023-11-13T15:46:34.511Z"
   },
   {
    "duration": 4,
    "start_time": "2023-11-13T15:46:38.706Z"
   },
   {
    "duration": 4,
    "start_time": "2023-11-13T15:47:04.042Z"
   },
   {
    "duration": 4,
    "start_time": "2023-11-13T15:47:09.302Z"
   },
   {
    "duration": 4,
    "start_time": "2023-11-13T15:47:12.455Z"
   },
   {
    "duration": 4,
    "start_time": "2023-11-13T15:47:21.073Z"
   },
   {
    "duration": 4,
    "start_time": "2023-11-13T15:47:32.953Z"
   },
   {
    "duration": 3,
    "start_time": "2023-11-13T15:47:46.729Z"
   },
   {
    "duration": 3,
    "start_time": "2023-11-13T15:47:55.015Z"
   },
   {
    "duration": 3,
    "start_time": "2023-11-13T15:48:02.985Z"
   },
   {
    "duration": 3,
    "start_time": "2023-11-13T15:48:37.187Z"
   },
   {
    "duration": 4,
    "start_time": "2023-11-13T15:49:21.840Z"
   },
   {
    "duration": 2,
    "start_time": "2023-11-13T15:49:36.843Z"
   },
   {
    "duration": 5,
    "start_time": "2023-11-13T15:49:37.153Z"
   },
   {
    "duration": 3,
    "start_time": "2023-11-13T15:59:37.000Z"
   },
   {
    "duration": 3,
    "start_time": "2023-11-13T15:59:37.426Z"
   },
   {
    "duration": 4,
    "start_time": "2023-11-13T15:59:39.875Z"
   },
   {
    "duration": 1793,
    "start_time": "2023-11-15T14:12:41.749Z"
   },
   {
    "duration": 877,
    "start_time": "2023-11-15T14:12:43.544Z"
   },
   {
    "duration": 36,
    "start_time": "2023-11-15T14:12:44.423Z"
   },
   {
    "duration": 57,
    "start_time": "2023-11-15T14:12:44.460Z"
   },
   {
    "duration": 168,
    "start_time": "2023-11-15T14:12:44.519Z"
   },
   {
    "duration": 31,
    "start_time": "2023-11-15T14:12:44.692Z"
   },
   {
    "duration": 170,
    "start_time": "2023-11-15T14:12:44.724Z"
   },
   {
    "duration": 192,
    "start_time": "2023-11-15T14:12:44.896Z"
   },
   {
    "duration": 7,
    "start_time": "2023-11-15T14:12:45.089Z"
   },
   {
    "duration": 19,
    "start_time": "2023-11-15T14:12:45.097Z"
   },
   {
    "duration": 3,
    "start_time": "2023-11-15T14:12:45.118Z"
   },
   {
    "duration": 408,
    "start_time": "2023-11-15T14:12:45.123Z"
   },
   {
    "duration": 388,
    "start_time": "2023-11-15T14:12:45.533Z"
   },
   {
    "duration": 473,
    "start_time": "2023-11-15T14:12:45.925Z"
   },
   {
    "duration": 604,
    "start_time": "2023-11-15T14:12:46.400Z"
   },
   {
    "duration": 695,
    "start_time": "2023-11-15T14:12:47.006Z"
   },
   {
    "duration": 640,
    "start_time": "2023-11-15T14:12:47.702Z"
   },
   {
    "duration": 2,
    "start_time": "2023-11-15T14:12:48.344Z"
   },
   {
    "duration": 39,
    "start_time": "2023-11-15T14:12:48.348Z"
   },
   {
    "duration": 18,
    "start_time": "2023-11-15T14:12:48.388Z"
   },
   {
    "duration": 16,
    "start_time": "2023-11-15T14:12:48.407Z"
   },
   {
    "duration": 2,
    "start_time": "2023-11-15T14:12:48.425Z"
   },
   {
    "duration": 8,
    "start_time": "2023-11-15T14:12:48.429Z"
   },
   {
    "duration": 61,
    "start_time": "2023-11-15T14:12:48.439Z"
   },
   {
    "duration": 3,
    "start_time": "2023-11-15T14:12:48.502Z"
   },
   {
    "duration": 114,
    "start_time": "2023-11-15T14:12:48.506Z"
   },
   {
    "duration": 76,
    "start_time": "2023-11-15T14:12:48.621Z"
   },
   {
    "duration": 6,
    "start_time": "2023-11-15T14:12:48.765Z"
   },
   {
    "duration": 105,
    "start_time": "2023-11-15T14:12:48.773Z"
   },
   {
    "duration": 8,
    "start_time": "2023-11-15T14:12:48.882Z"
   },
   {
    "duration": 18,
    "start_time": "2023-11-15T14:12:48.892Z"
   },
   {
    "duration": 7,
    "start_time": "2023-11-15T14:12:48.912Z"
   },
   {
    "duration": 144,
    "start_time": "2023-11-15T14:22:30.940Z"
   },
   {
    "duration": 16,
    "start_time": "2023-11-15T14:22:37.141Z"
   },
   {
    "duration": 13,
    "start_time": "2023-11-15T14:22:49.739Z"
   },
   {
    "duration": 16,
    "start_time": "2023-11-15T14:24:23.485Z"
   },
   {
    "duration": 144,
    "start_time": "2023-11-15T14:24:39.239Z"
   },
   {
    "duration": 21,
    "start_time": "2023-11-15T14:24:48.274Z"
   },
   {
    "duration": 24,
    "start_time": "2023-11-15T14:24:53.975Z"
   },
   {
    "duration": 145,
    "start_time": "2023-11-15T14:25:17.811Z"
   },
   {
    "duration": 15,
    "start_time": "2023-11-15T14:25:25.124Z"
   },
   {
    "duration": 19,
    "start_time": "2023-11-15T14:25:50.665Z"
   },
   {
    "duration": 17,
    "start_time": "2023-11-15T14:26:22.811Z"
   },
   {
    "duration": 33,
    "start_time": "2023-11-15T14:26:28.984Z"
   },
   {
    "duration": 29,
    "start_time": "2023-11-15T14:26:36.468Z"
   },
   {
    "duration": 21,
    "start_time": "2023-11-15T14:26:47.675Z"
   },
   {
    "duration": 20,
    "start_time": "2023-11-15T14:27:09.348Z"
   },
   {
    "duration": 14,
    "start_time": "2023-11-15T14:27:23.497Z"
   },
   {
    "duration": 20,
    "start_time": "2023-11-15T14:27:39.627Z"
   },
   {
    "duration": 19,
    "start_time": "2023-11-15T14:28:47.511Z"
   },
   {
    "duration": 10,
    "start_time": "2023-11-15T14:28:49.768Z"
   },
   {
    "duration": 1449,
    "start_time": "2023-11-15T14:28:55.030Z"
   },
   {
    "duration": 442,
    "start_time": "2023-11-15T14:28:56.482Z"
   },
   {
    "duration": 53,
    "start_time": "2023-11-15T14:28:56.926Z"
   },
   {
    "duration": 41,
    "start_time": "2023-11-15T14:28:56.981Z"
   },
   {
    "duration": 172,
    "start_time": "2023-11-15T14:28:57.025Z"
   },
   {
    "duration": 29,
    "start_time": "2023-11-15T14:28:57.199Z"
   },
   {
    "duration": 188,
    "start_time": "2023-11-15T14:28:57.229Z"
   },
   {
    "duration": 199,
    "start_time": "2023-11-15T14:28:57.418Z"
   },
   {
    "duration": 6,
    "start_time": "2023-11-15T14:28:57.619Z"
   },
   {
    "duration": 20,
    "start_time": "2023-11-15T14:28:57.627Z"
   },
   {
    "duration": 30,
    "start_time": "2023-11-15T14:28:57.648Z"
   },
   {
    "duration": 362,
    "start_time": "2023-11-15T14:28:57.680Z"
   },
   {
    "duration": 376,
    "start_time": "2023-11-15T14:28:58.044Z"
   },
   {
    "duration": 428,
    "start_time": "2023-11-15T14:28:58.423Z"
   },
   {
    "duration": 633,
    "start_time": "2023-11-15T14:28:58.854Z"
   },
   {
    "duration": 642,
    "start_time": "2023-11-15T14:28:59.489Z"
   },
   {
    "duration": 629,
    "start_time": "2023-11-15T14:29:00.133Z"
   },
   {
    "duration": 7,
    "start_time": "2023-11-15T14:29:00.766Z"
   },
   {
    "duration": 53,
    "start_time": "2023-11-15T14:29:00.780Z"
   },
   {
    "duration": 52,
    "start_time": "2023-11-15T14:29:00.835Z"
   },
   {
    "duration": 55,
    "start_time": "2023-11-15T14:29:00.888Z"
   },
   {
    "duration": 35,
    "start_time": "2023-11-15T14:29:00.944Z"
   },
   {
    "duration": 46,
    "start_time": "2023-11-15T14:29:00.980Z"
   },
   {
    "duration": 88,
    "start_time": "2023-11-15T14:29:01.028Z"
   },
   {
    "duration": 27,
    "start_time": "2023-11-15T14:29:01.118Z"
   },
   {
    "duration": 110,
    "start_time": "2023-11-15T14:29:01.147Z"
   },
   {
    "duration": 313,
    "start_time": "2023-11-15T14:29:01.259Z"
   },
   {
    "duration": 5,
    "start_time": "2023-11-15T14:29:01.575Z"
   },
   {
    "duration": 100,
    "start_time": "2023-11-15T14:29:01.666Z"
   },
   {
    "duration": 43,
    "start_time": "2023-11-15T14:29:01.768Z"
   },
   {
    "duration": 39,
    "start_time": "2023-11-15T14:29:01.813Z"
   },
   {
    "duration": 166,
    "start_time": "2023-11-15T14:29:01.854Z"
   },
   {
    "duration": 0,
    "start_time": "2023-11-15T14:29:02.022Z"
   },
   {
    "duration": 8,
    "start_time": "2023-11-15T14:29:17.786Z"
   },
   {
    "duration": 13,
    "start_time": "2023-11-15T14:29:25.075Z"
   },
   {
    "duration": 9,
    "start_time": "2023-11-15T14:29:28.943Z"
   },
   {
    "duration": 10,
    "start_time": "2023-11-15T14:29:35.743Z"
   },
   {
    "duration": 10,
    "start_time": "2023-11-15T14:29:39.440Z"
   },
   {
    "duration": 12,
    "start_time": "2023-11-15T14:29:52.887Z"
   },
   {
    "duration": 11,
    "start_time": "2023-11-15T14:30:04.898Z"
   },
   {
    "duration": 10,
    "start_time": "2023-11-15T14:30:07.475Z"
   },
   {
    "duration": 16,
    "start_time": "2023-11-15T14:30:58.541Z"
   },
   {
    "duration": 12,
    "start_time": "2023-11-15T14:31:37.631Z"
   },
   {
    "duration": 14,
    "start_time": "2023-11-15T14:32:00.984Z"
   },
   {
    "duration": 22,
    "start_time": "2023-11-15T14:32:05.260Z"
   },
   {
    "duration": 23,
    "start_time": "2023-11-15T14:32:11.165Z"
   },
   {
    "duration": 15,
    "start_time": "2023-11-15T14:32:17.522Z"
   },
   {
    "duration": 10,
    "start_time": "2023-11-15T14:32:54.740Z"
   },
   {
    "duration": 3,
    "start_time": "2023-11-15T14:33:04.721Z"
   },
   {
    "duration": 3,
    "start_time": "2023-11-15T14:33:12.713Z"
   },
   {
    "duration": 8,
    "start_time": "2023-11-15T14:33:30.527Z"
   },
   {
    "duration": 7,
    "start_time": "2023-11-15T14:33:33.751Z"
   },
   {
    "duration": 4,
    "start_time": "2023-11-15T14:33:34.436Z"
   },
   {
    "duration": 10,
    "start_time": "2023-11-15T14:33:41.219Z"
   },
   {
    "duration": 4,
    "start_time": "2023-11-15T14:33:42.275Z"
   },
   {
    "duration": 14,
    "start_time": "2023-11-15T14:34:42.948Z"
   },
   {
    "duration": 14,
    "start_time": "2023-11-15T14:34:50.748Z"
   },
   {
    "duration": 16,
    "start_time": "2023-11-15T14:34:58.826Z"
   },
   {
    "duration": 8,
    "start_time": "2023-11-15T14:36:44.316Z"
   },
   {
    "duration": 25,
    "start_time": "2023-11-15T14:37:19.776Z"
   },
   {
    "duration": 26,
    "start_time": "2023-11-15T14:37:34.556Z"
   },
   {
    "duration": 5,
    "start_time": "2023-11-15T14:41:02.580Z"
   },
   {
    "duration": 11,
    "start_time": "2023-11-15T14:41:04.598Z"
   },
   {
    "duration": 18,
    "start_time": "2023-11-15T14:41:33.454Z"
   },
   {
    "duration": 3,
    "start_time": "2023-11-15T14:43:49.984Z"
   },
   {
    "duration": 4,
    "start_time": "2023-11-15T14:43:57.908Z"
   },
   {
    "duration": 12,
    "start_time": "2023-11-15T14:44:08.858Z"
   },
   {
    "duration": 9,
    "start_time": "2023-11-15T14:52:58.777Z"
   },
   {
    "duration": 3,
    "start_time": "2023-11-15T14:53:32.855Z"
   },
   {
    "duration": 168,
    "start_time": "2023-11-15T14:53:33.310Z"
   },
   {
    "duration": 4,
    "start_time": "2023-11-15T14:53:39.301Z"
   },
   {
    "duration": 14,
    "start_time": "2023-11-15T14:54:00.880Z"
   },
   {
    "duration": 3,
    "start_time": "2023-11-15T14:54:15.625Z"
   },
   {
    "duration": 4,
    "start_time": "2023-11-15T14:54:16.415Z"
   },
   {
    "duration": 15,
    "start_time": "2023-11-15T14:54:16.997Z"
   },
   {
    "duration": 5,
    "start_time": "2023-11-15T14:55:43.784Z"
   },
   {
    "duration": 13,
    "start_time": "2023-11-15T14:55:44.204Z"
   },
   {
    "duration": 3,
    "start_time": "2023-11-15T14:59:36.400Z"
   },
   {
    "duration": 13,
    "start_time": "2023-11-15T14:59:36.790Z"
   },
   {
    "duration": 3,
    "start_time": "2023-11-15T14:59:50.704Z"
   },
   {
    "duration": 19,
    "start_time": "2023-11-15T14:59:50.964Z"
   },
   {
    "duration": 16,
    "start_time": "2023-11-15T15:01:03.263Z"
   },
   {
    "duration": 15,
    "start_time": "2023-11-15T15:01:03.579Z"
   },
   {
    "duration": 4,
    "start_time": "2023-11-15T15:04:12.507Z"
   },
   {
    "duration": 13,
    "start_time": "2023-11-15T15:04:13.308Z"
   },
   {
    "duration": 5,
    "start_time": "2023-11-15T15:05:02.809Z"
   },
   {
    "duration": 30,
    "start_time": "2023-11-15T15:05:03.261Z"
   },
   {
    "duration": 6,
    "start_time": "2023-11-15T15:05:28.276Z"
   },
   {
    "duration": 5,
    "start_time": "2023-11-15T15:05:33.131Z"
   },
   {
    "duration": 5,
    "start_time": "2023-11-15T15:05:38.302Z"
   },
   {
    "duration": 5,
    "start_time": "2023-11-15T15:07:40.576Z"
   },
   {
    "duration": 13,
    "start_time": "2023-11-15T15:07:41.043Z"
   },
   {
    "duration": 5,
    "start_time": "2023-11-15T15:08:34.078Z"
   },
   {
    "duration": 4,
    "start_time": "2023-11-15T15:08:38.226Z"
   },
   {
    "duration": 3,
    "start_time": "2023-11-15T15:09:38.721Z"
   },
   {
    "duration": 5,
    "start_time": "2023-11-15T15:09:39.476Z"
   },
   {
    "duration": 14,
    "start_time": "2023-11-15T15:09:39.917Z"
   },
   {
    "duration": 8,
    "start_time": "2023-11-15T15:13:30.104Z"
   },
   {
    "duration": 5,
    "start_time": "2023-11-15T15:14:23.948Z"
   },
   {
    "duration": 16,
    "start_time": "2023-11-15T15:14:24.413Z"
   },
   {
    "duration": 6,
    "start_time": "2023-11-15T15:14:55.160Z"
   },
   {
    "duration": 14,
    "start_time": "2023-11-15T15:14:55.590Z"
   },
   {
    "duration": 10,
    "start_time": "2023-11-15T15:15:44.948Z"
   },
   {
    "duration": 13,
    "start_time": "2023-11-15T15:16:24.084Z"
   },
   {
    "duration": 17,
    "start_time": "2023-11-15T15:16:31.261Z"
   },
   {
    "duration": 13,
    "start_time": "2023-11-15T15:16:39.176Z"
   },
   {
    "duration": 16,
    "start_time": "2023-11-15T15:16:39.496Z"
   },
   {
    "duration": 11,
    "start_time": "2023-11-15T15:16:53.424Z"
   },
   {
    "duration": 14,
    "start_time": "2023-11-15T15:16:53.941Z"
   },
   {
    "duration": 11,
    "start_time": "2023-11-15T15:16:57.548Z"
   },
   {
    "duration": 3,
    "start_time": "2023-11-15T15:17:44.234Z"
   },
   {
    "duration": 12,
    "start_time": "2023-11-15T15:17:50.952Z"
   },
   {
    "duration": 15,
    "start_time": "2023-11-15T15:18:35.667Z"
   },
   {
    "duration": 8,
    "start_time": "2023-11-15T15:18:50.278Z"
   },
   {
    "duration": 5,
    "start_time": "2023-11-15T15:19:07.662Z"
   },
   {
    "duration": 13,
    "start_time": "2023-11-15T15:19:12.409Z"
   },
   {
    "duration": 16,
    "start_time": "2023-11-15T15:19:35.655Z"
   },
   {
    "duration": 12,
    "start_time": "2023-11-15T15:19:42.020Z"
   },
   {
    "duration": 5,
    "start_time": "2023-11-15T15:19:57.895Z"
   },
   {
    "duration": 1541,
    "start_time": "2023-11-15T15:20:47.582Z"
   },
   {
    "duration": 457,
    "start_time": "2023-11-15T15:20:49.126Z"
   },
   {
    "duration": 36,
    "start_time": "2023-11-15T15:20:49.585Z"
   },
   {
    "duration": 78,
    "start_time": "2023-11-15T15:20:49.623Z"
   },
   {
    "duration": 177,
    "start_time": "2023-11-15T15:20:49.704Z"
   },
   {
    "duration": 29,
    "start_time": "2023-11-15T15:20:49.883Z"
   },
   {
    "duration": 181,
    "start_time": "2023-11-15T15:20:49.914Z"
   },
   {
    "duration": 195,
    "start_time": "2023-11-15T15:20:50.097Z"
   },
   {
    "duration": 5,
    "start_time": "2023-11-15T15:20:50.294Z"
   },
   {
    "duration": 26,
    "start_time": "2023-11-15T15:20:50.300Z"
   },
   {
    "duration": 3,
    "start_time": "2023-11-15T15:20:50.328Z"
   },
   {
    "duration": 397,
    "start_time": "2023-11-15T15:20:50.332Z"
   },
   {
    "duration": 358,
    "start_time": "2023-11-15T15:20:50.731Z"
   },
   {
    "duration": 434,
    "start_time": "2023-11-15T15:20:51.092Z"
   },
   {
    "duration": 619,
    "start_time": "2023-11-15T15:20:51.528Z"
   },
   {
    "duration": 657,
    "start_time": "2023-11-15T15:20:52.149Z"
   },
   {
    "duration": 595,
    "start_time": "2023-11-15T15:20:52.807Z"
   },
   {
    "duration": 2,
    "start_time": "2023-11-15T15:20:53.404Z"
   },
   {
    "duration": 18,
    "start_time": "2023-11-15T15:20:53.408Z"
   },
   {
    "duration": 50,
    "start_time": "2023-11-15T15:20:53.427Z"
   },
   {
    "duration": 14,
    "start_time": "2023-11-15T15:20:53.479Z"
   },
   {
    "duration": 2,
    "start_time": "2023-11-15T15:20:53.495Z"
   },
   {
    "duration": 15,
    "start_time": "2023-11-15T15:20:53.499Z"
   },
   {
    "duration": 43,
    "start_time": "2023-11-15T15:20:53.516Z"
   },
   {
    "duration": 13,
    "start_time": "2023-11-15T15:20:53.561Z"
   },
   {
    "duration": 105,
    "start_time": "2023-11-15T15:20:53.577Z"
   },
   {
    "duration": 200,
    "start_time": "2023-11-15T15:20:53.684Z"
   },
   {
    "duration": 84,
    "start_time": "2023-11-15T15:20:53.886Z"
   },
   {
    "duration": 98,
    "start_time": "2023-11-15T15:20:53.972Z"
   },
   {
    "duration": 11,
    "start_time": "2023-11-15T15:20:54.072Z"
   },
   {
    "duration": 5,
    "start_time": "2023-11-15T15:20:54.084Z"
   },
   {
    "duration": 5,
    "start_time": "2023-11-15T15:20:54.091Z"
   },
   {
    "duration": 21,
    "start_time": "2023-11-15T15:20:54.098Z"
   },
   {
    "duration": 54,
    "start_time": "2023-11-15T15:20:54.121Z"
   },
   {
    "duration": 127,
    "start_time": "2023-11-15T15:20:54.177Z"
   },
   {
    "duration": 0,
    "start_time": "2023-11-15T15:20:54.305Z"
   },
   {
    "duration": 0,
    "start_time": "2023-11-15T15:20:54.307Z"
   },
   {
    "duration": 9,
    "start_time": "2023-11-15T15:21:12.780Z"
   },
   {
    "duration": 5,
    "start_time": "2023-11-15T15:21:18.278Z"
   },
   {
    "duration": 13,
    "start_time": "2023-11-15T15:21:23.576Z"
   },
   {
    "duration": 4,
    "start_time": "2023-11-15T15:21:51.136Z"
   },
   {
    "duration": 55,
    "start_time": "2023-11-15T15:21:51.906Z"
   },
   {
    "duration": 3,
    "start_time": "2023-11-15T15:21:52.541Z"
   },
   {
    "duration": 4,
    "start_time": "2023-11-15T15:21:52.860Z"
   },
   {
    "duration": 34,
    "start_time": "2023-11-15T15:21:53.194Z"
   },
   {
    "duration": 13,
    "start_time": "2023-11-15T15:21:53.512Z"
   },
   {
    "duration": 4,
    "start_time": "2023-11-15T15:22:06.851Z"
   },
   {
    "duration": 33,
    "start_time": "2023-11-15T15:22:07.419Z"
   },
   {
    "duration": 3,
    "start_time": "2023-11-15T15:22:07.793Z"
   },
   {
    "duration": 4,
    "start_time": "2023-11-15T15:22:08.096Z"
   },
   {
    "duration": 302,
    "start_time": "2023-11-15T15:22:08.372Z"
   },
   {
    "duration": 15,
    "start_time": "2023-11-15T15:22:09.378Z"
   },
   {
    "duration": 5,
    "start_time": "2023-11-15T15:24:32.551Z"
   },
   {
    "duration": 4,
    "start_time": "2023-11-15T15:24:55.179Z"
   },
   {
    "duration": 9,
    "start_time": "2023-11-15T15:24:58.180Z"
   },
   {
    "duration": 10,
    "start_time": "2023-11-15T15:25:10.723Z"
   },
   {
    "duration": 158,
    "start_time": "2023-11-15T15:25:19.710Z"
   },
   {
    "duration": 5,
    "start_time": "2023-11-15T15:25:20.179Z"
   },
   {
    "duration": 3,
    "start_time": "2023-11-15T15:25:21.256Z"
   },
   {
    "duration": 4,
    "start_time": "2023-11-15T15:25:21.459Z"
   },
   {
    "duration": 4,
    "start_time": "2023-11-15T15:25:21.708Z"
   },
   {
    "duration": 26,
    "start_time": "2023-11-15T15:25:21.877Z"
   },
   {
    "duration": 4,
    "start_time": "2023-11-15T15:25:22.840Z"
   },
   {
    "duration": 13,
    "start_time": "2023-11-15T15:25:23.810Z"
   },
   {
    "duration": 10,
    "start_time": "2023-11-15T15:25:47.851Z"
   },
   {
    "duration": 9,
    "start_time": "2023-11-15T15:25:51.946Z"
   },
   {
    "duration": 11,
    "start_time": "2023-11-15T15:25:56.108Z"
   },
   {
    "duration": 10,
    "start_time": "2023-11-15T15:25:59.395Z"
   },
   {
    "duration": 11,
    "start_time": "2023-11-15T15:26:24.376Z"
   },
   {
    "duration": 10,
    "start_time": "2023-11-15T15:26:32.150Z"
   },
   {
    "duration": 3,
    "start_time": "2023-11-15T15:26:40.314Z"
   },
   {
    "duration": 6,
    "start_time": "2023-11-15T15:26:46.191Z"
   },
   {
    "duration": 13,
    "start_time": "2023-11-15T15:26:59.603Z"
   },
   {
    "duration": 5,
    "start_time": "2023-11-15T15:27:08.696Z"
   },
   {
    "duration": 1506,
    "start_time": "2023-11-15T15:27:16.438Z"
   },
   {
    "duration": 450,
    "start_time": "2023-11-15T15:27:17.946Z"
   },
   {
    "duration": 40,
    "start_time": "2023-11-15T15:27:18.397Z"
   },
   {
    "duration": 76,
    "start_time": "2023-11-15T15:27:18.440Z"
   },
   {
    "duration": 179,
    "start_time": "2023-11-15T15:27:18.519Z"
   },
   {
    "duration": 33,
    "start_time": "2023-11-15T15:27:18.700Z"
   },
   {
    "duration": 167,
    "start_time": "2023-11-15T15:27:18.770Z"
   },
   {
    "duration": 194,
    "start_time": "2023-11-15T15:27:18.939Z"
   },
   {
    "duration": 5,
    "start_time": "2023-11-15T15:27:19.136Z"
   },
   {
    "duration": 41,
    "start_time": "2023-11-15T15:27:19.142Z"
   },
   {
    "duration": 13,
    "start_time": "2023-11-15T15:27:19.184Z"
   },
   {
    "duration": 382,
    "start_time": "2023-11-15T15:27:19.199Z"
   },
   {
    "duration": 360,
    "start_time": "2023-11-15T15:27:19.583Z"
   },
   {
    "duration": 447,
    "start_time": "2023-11-15T15:27:19.946Z"
   },
   {
    "duration": 616,
    "start_time": "2023-11-15T15:27:20.395Z"
   },
   {
    "duration": 662,
    "start_time": "2023-11-15T15:27:21.013Z"
   },
   {
    "duration": 627,
    "start_time": "2023-11-15T15:27:21.677Z"
   },
   {
    "duration": 3,
    "start_time": "2023-11-15T15:27:22.305Z"
   },
   {
    "duration": 19,
    "start_time": "2023-11-15T15:27:22.309Z"
   },
   {
    "duration": 47,
    "start_time": "2023-11-15T15:27:22.330Z"
   },
   {
    "duration": 19,
    "start_time": "2023-11-15T15:27:22.379Z"
   },
   {
    "duration": 3,
    "start_time": "2023-11-15T15:27:22.400Z"
   },
   {
    "duration": 10,
    "start_time": "2023-11-15T15:27:22.405Z"
   },
   {
    "duration": 62,
    "start_time": "2023-11-15T15:27:22.416Z"
   },
   {
    "duration": 2,
    "start_time": "2023-11-15T15:27:22.480Z"
   },
   {
    "duration": 112,
    "start_time": "2023-11-15T15:27:22.484Z"
   },
   {
    "duration": 174,
    "start_time": "2023-11-15T15:27:22.598Z"
   },
   {
    "duration": 92,
    "start_time": "2023-11-15T15:27:22.775Z"
   },
   {
    "duration": 88,
    "start_time": "2023-11-15T15:27:22.882Z"
   },
   {
    "duration": 4,
    "start_time": "2023-11-15T15:27:22.976Z"
   },
   {
    "duration": 8,
    "start_time": "2023-11-15T15:27:22.983Z"
   },
   {
    "duration": 36,
    "start_time": "2023-11-15T15:27:22.993Z"
   },
   {
    "duration": 3,
    "start_time": "2023-11-15T15:27:23.030Z"
   },
   {
    "duration": 162,
    "start_time": "2023-11-15T15:27:23.035Z"
   },
   {
    "duration": 0,
    "start_time": "2023-11-15T15:27:23.199Z"
   },
   {
    "duration": 0,
    "start_time": "2023-11-15T15:27:23.200Z"
   },
   {
    "duration": 0,
    "start_time": "2023-11-15T15:27:23.201Z"
   },
   {
    "duration": 0,
    "start_time": "2023-11-15T15:27:23.202Z"
   },
   {
    "duration": 3,
    "start_time": "2023-11-15T15:27:33.002Z"
   },
   {
    "duration": 5,
    "start_time": "2023-11-15T15:27:35.396Z"
   },
   {
    "duration": 3,
    "start_time": "2023-11-15T15:31:07.995Z"
   },
   {
    "duration": 4,
    "start_time": "2023-11-15T15:32:12.175Z"
   },
   {
    "duration": 5,
    "start_time": "2023-11-15T15:32:19.007Z"
   },
   {
    "duration": 180,
    "start_time": "2023-11-15T15:32:36.880Z"
   },
   {
    "duration": 16,
    "start_time": "2023-11-15T15:32:57.523Z"
   },
   {
    "duration": 5,
    "start_time": "2023-11-15T15:33:06.790Z"
   },
   {
    "duration": 14,
    "start_time": "2023-11-15T15:33:07.700Z"
   },
   {
    "duration": 5,
    "start_time": "2023-11-15T15:33:16.878Z"
   },
   {
    "duration": 15,
    "start_time": "2023-11-15T15:33:17.330Z"
   },
   {
    "duration": 4,
    "start_time": "2023-11-15T15:35:58.450Z"
   },
   {
    "duration": 5,
    "start_time": "2023-11-15T15:36:01.418Z"
   },
   {
    "duration": 14,
    "start_time": "2023-11-15T15:36:01.818Z"
   },
   {
    "duration": 1443,
    "start_time": "2023-11-15T15:36:19.313Z"
   },
   {
    "duration": 452,
    "start_time": "2023-11-15T15:36:20.758Z"
   },
   {
    "duration": 41,
    "start_time": "2023-11-15T15:36:21.212Z"
   },
   {
    "duration": 57,
    "start_time": "2023-11-15T15:36:21.265Z"
   },
   {
    "duration": 165,
    "start_time": "2023-11-15T15:36:21.324Z"
   },
   {
    "duration": 31,
    "start_time": "2023-11-15T15:36:21.491Z"
   },
   {
    "duration": 160,
    "start_time": "2023-11-15T15:36:21.523Z"
   },
   {
    "duration": 185,
    "start_time": "2023-11-15T15:36:21.684Z"
   },
   {
    "duration": 5,
    "start_time": "2023-11-15T15:36:21.871Z"
   },
   {
    "duration": 16,
    "start_time": "2023-11-15T15:36:21.878Z"
   },
   {
    "duration": 3,
    "start_time": "2023-11-15T15:36:21.896Z"
   },
   {
    "duration": 371,
    "start_time": "2023-11-15T15:36:21.900Z"
   },
   {
    "duration": 356,
    "start_time": "2023-11-15T15:36:22.273Z"
   },
   {
    "duration": 401,
    "start_time": "2023-11-15T15:36:22.630Z"
   },
   {
    "duration": 562,
    "start_time": "2023-11-15T15:36:23.033Z"
   },
   {
    "duration": 625,
    "start_time": "2023-11-15T15:36:23.597Z"
   },
   {
    "duration": 593,
    "start_time": "2023-11-15T15:36:24.224Z"
   },
   {
    "duration": 2,
    "start_time": "2023-11-15T15:36:24.819Z"
   },
   {
    "duration": 67,
    "start_time": "2023-11-15T15:36:24.823Z"
   },
   {
    "duration": 14,
    "start_time": "2023-11-15T15:36:24.892Z"
   },
   {
    "duration": 17,
    "start_time": "2023-11-15T15:36:24.907Z"
   },
   {
    "duration": 3,
    "start_time": "2023-11-15T15:36:24.926Z"
   },
   {
    "duration": 5,
    "start_time": "2023-11-15T15:36:24.931Z"
   },
   {
    "duration": 159,
    "start_time": "2023-11-15T15:36:24.937Z"
   },
   {
    "duration": 2,
    "start_time": "2023-11-15T15:36:25.098Z"
   },
   {
    "duration": 3,
    "start_time": "2023-11-15T15:36:25.102Z"
   },
   {
    "duration": 167,
    "start_time": "2023-11-15T15:36:25.107Z"
   },
   {
    "duration": 96,
    "start_time": "2023-11-15T15:36:25.370Z"
   },
   {
    "duration": 3,
    "start_time": "2023-11-15T15:36:25.468Z"
   },
   {
    "duration": 6,
    "start_time": "2023-11-15T15:36:25.473Z"
   },
   {
    "duration": 11,
    "start_time": "2023-11-15T15:36:25.480Z"
   },
   {
    "duration": 23,
    "start_time": "2023-11-15T15:36:25.492Z"
   },
   {
    "duration": 4,
    "start_time": "2023-11-15T15:36:25.517Z"
   },
   {
    "duration": 5,
    "start_time": "2023-11-15T15:36:25.522Z"
   },
   {
    "duration": 36,
    "start_time": "2023-11-15T15:36:25.529Z"
   },
   {
    "duration": 120,
    "start_time": "2023-11-15T15:36:25.567Z"
   },
   {
    "duration": 3,
    "start_time": "2023-11-15T15:36:33.298Z"
   },
   {
    "duration": 3,
    "start_time": "2023-11-15T15:36:33.706Z"
   },
   {
    "duration": 5,
    "start_time": "2023-11-15T15:36:34.356Z"
   },
   {
    "duration": 14,
    "start_time": "2023-11-15T15:36:35.523Z"
   },
   {
    "duration": 3,
    "start_time": "2023-11-15T15:37:30.685Z"
   },
   {
    "duration": 4,
    "start_time": "2023-11-15T15:37:31.109Z"
   },
   {
    "duration": 3,
    "start_time": "2023-11-15T15:37:33.096Z"
   },
   {
    "duration": 3,
    "start_time": "2023-11-15T15:37:33.569Z"
   },
   {
    "duration": 5,
    "start_time": "2023-11-15T15:37:34.277Z"
   },
   {
    "duration": 15,
    "start_time": "2023-11-15T15:37:34.994Z"
   },
   {
    "duration": 3,
    "start_time": "2023-11-15T15:37:50.253Z"
   },
   {
    "duration": 5080,
    "start_time": "2023-11-15T15:37:51.122Z"
   },
   {
    "duration": 4,
    "start_time": "2023-11-15T15:40:30.785Z"
   },
   {
    "duration": 3,
    "start_time": "2023-11-15T15:40:38.573Z"
   },
   {
    "duration": 5,
    "start_time": "2023-11-15T15:40:57.636Z"
   },
   {
    "duration": 4,
    "start_time": "2023-11-15T15:41:19.703Z"
   },
   {
    "duration": 3,
    "start_time": "2023-11-15T15:44:19.416Z"
   },
   {
    "duration": 4,
    "start_time": "2023-11-15T15:44:19.898Z"
   },
   {
    "duration": 4,
    "start_time": "2023-11-15T15:45:25.212Z"
   },
   {
    "duration": 4,
    "start_time": "2023-11-15T15:46:18.616Z"
   },
   {
    "duration": 4,
    "start_time": "2023-11-15T15:46:55.474Z"
   },
   {
    "duration": 16,
    "start_time": "2023-11-15T15:46:55.889Z"
   },
   {
    "duration": 4,
    "start_time": "2023-11-15T15:47:06.997Z"
   },
   {
    "duration": 14,
    "start_time": "2023-11-15T15:47:07.807Z"
   },
   {
    "duration": 4,
    "start_time": "2023-11-15T15:47:21.469Z"
   },
   {
    "duration": 14,
    "start_time": "2023-11-15T15:47:22.276Z"
   },
   {
    "duration": 1475,
    "start_time": "2023-11-15T15:47:29.807Z"
   },
   {
    "duration": 444,
    "start_time": "2023-11-15T15:47:31.284Z"
   },
   {
    "duration": 41,
    "start_time": "2023-11-15T15:47:31.730Z"
   },
   {
    "duration": 60,
    "start_time": "2023-11-15T15:47:31.773Z"
   },
   {
    "duration": 152,
    "start_time": "2023-11-15T15:47:31.834Z"
   },
   {
    "duration": 31,
    "start_time": "2023-11-15T15:47:31.988Z"
   },
   {
    "duration": 174,
    "start_time": "2023-11-15T15:47:32.021Z"
   },
   {
    "duration": 178,
    "start_time": "2023-11-15T15:47:32.197Z"
   },
   {
    "duration": 5,
    "start_time": "2023-11-15T15:47:32.377Z"
   },
   {
    "duration": 32,
    "start_time": "2023-11-15T15:47:32.385Z"
   },
   {
    "duration": 4,
    "start_time": "2023-11-15T15:47:32.418Z"
   },
   {
    "duration": 359,
    "start_time": "2023-11-15T15:47:32.423Z"
   },
   {
    "duration": 344,
    "start_time": "2023-11-15T15:47:32.784Z"
   },
   {
    "duration": 416,
    "start_time": "2023-11-15T15:47:33.130Z"
   },
   {
    "duration": 587,
    "start_time": "2023-11-15T15:47:33.548Z"
   },
   {
    "duration": 640,
    "start_time": "2023-11-15T15:47:34.137Z"
   },
   {
    "duration": 586,
    "start_time": "2023-11-15T15:47:34.779Z"
   },
   {
    "duration": 2,
    "start_time": "2023-11-15T15:47:35.367Z"
   },
   {
    "duration": 37,
    "start_time": "2023-11-15T15:47:35.371Z"
   },
   {
    "duration": 19,
    "start_time": "2023-11-15T15:47:35.410Z"
   },
   {
    "duration": 13,
    "start_time": "2023-11-15T15:47:35.431Z"
   },
   {
    "duration": 19,
    "start_time": "2023-11-15T15:47:35.446Z"
   },
   {
    "duration": 3,
    "start_time": "2023-11-15T15:47:35.467Z"
   },
   {
    "duration": 144,
    "start_time": "2023-11-15T15:47:35.471Z"
   },
   {
    "duration": 3,
    "start_time": "2023-11-15T15:47:35.616Z"
   },
   {
    "duration": 5,
    "start_time": "2023-11-15T15:47:35.620Z"
   },
   {
    "duration": 244,
    "start_time": "2023-11-15T15:47:35.626Z"
   },
   {
    "duration": 94,
    "start_time": "2023-11-15T15:47:35.874Z"
   },
   {
    "duration": 94,
    "start_time": "2023-11-15T15:47:35.971Z"
   },
   {
    "duration": 3,
    "start_time": "2023-11-15T15:47:36.067Z"
   },
   {
    "duration": 9,
    "start_time": "2023-11-15T15:47:36.072Z"
   },
   {
    "duration": 27,
    "start_time": "2023-11-15T15:47:36.082Z"
   },
   {
    "duration": 3,
    "start_time": "2023-11-15T15:47:36.110Z"
   },
   {
    "duration": 7,
    "start_time": "2023-11-15T15:47:36.114Z"
   },
   {
    "duration": 8,
    "start_time": "2023-11-15T15:47:36.122Z"
   },
   {
    "duration": 7,
    "start_time": "2023-11-15T15:47:36.132Z"
   },
   {
    "duration": 132,
    "start_time": "2023-11-15T15:47:36.140Z"
   },
   {
    "duration": 4136,
    "start_time": "2023-11-15T15:47:40.585Z"
   },
   {
    "duration": 6,
    "start_time": "2023-11-15T15:48:16.531Z"
   },
   {
    "duration": 4,
    "start_time": "2023-11-15T15:48:22.922Z"
   },
   {
    "duration": 5,
    "start_time": "2023-11-15T15:52:42.203Z"
   },
   {
    "duration": 4215,
    "start_time": "2023-11-15T15:52:57.448Z"
   },
   {
    "duration": 9,
    "start_time": "2023-11-15T15:53:01.665Z"
   },
   {
    "duration": 1413,
    "start_time": "2023-11-15T15:54:07.698Z"
   },
   {
    "duration": 6,
    "start_time": "2023-11-15T15:54:12.742Z"
   },
   {
    "duration": 5,
    "start_time": "2023-11-15T15:54:21.012Z"
   },
   {
    "duration": 4,
    "start_time": "2023-11-15T15:54:24.427Z"
   },
   {
    "duration": 5,
    "start_time": "2023-11-15T15:54:46.228Z"
   },
   {
    "duration": 4154,
    "start_time": "2023-11-15T15:54:46.654Z"
   },
   {
    "duration": 1439,
    "start_time": "2023-11-15T15:54:50.809Z"
   },
   {
    "duration": 6,
    "start_time": "2023-11-15T15:54:52.542Z"
   },
   {
    "duration": 2,
    "start_time": "2023-11-15T15:54:58.777Z"
   },
   {
    "duration": 1387,
    "start_time": "2023-11-15T15:54:59.127Z"
   },
   {
    "duration": 5,
    "start_time": "2023-11-15T15:55:01.210Z"
   },
   {
    "duration": 2,
    "start_time": "2023-11-15T15:55:01.689Z"
   },
   {
    "duration": 1376,
    "start_time": "2023-11-15T15:55:01.875Z"
   },
   {
    "duration": 12,
    "start_time": "2023-11-15T15:55:03.253Z"
   },
   {
    "duration": 4,
    "start_time": "2023-11-15T15:55:35.160Z"
   },
   {
    "duration": 1385,
    "start_time": "2023-11-15T15:56:37.797Z"
   },
   {
    "duration": 4,
    "start_time": "2023-11-15T15:56:39.183Z"
   },
   {
    "duration": 78,
    "start_time": "2023-11-15T15:56:53.309Z"
   },
   {
    "duration": 1347,
    "start_time": "2023-11-15T15:56:53.657Z"
   },
   {
    "duration": 219,
    "start_time": "2023-11-15T15:56:58.067Z"
   },
   {
    "duration": 1404,
    "start_time": "2023-11-15T15:56:58.602Z"
   },
   {
    "duration": 5,
    "start_time": "2023-11-15T15:57:04.117Z"
   },
   {
    "duration": 1384,
    "start_time": "2023-11-15T15:57:04.702Z"
   },
   {
    "duration": 9,
    "start_time": "2023-11-15T15:57:06.088Z"
   },
   {
    "duration": 1514,
    "start_time": "2023-11-15T15:57:20.525Z"
   },
   {
    "duration": 458,
    "start_time": "2023-11-15T15:57:22.041Z"
   },
   {
    "duration": 35,
    "start_time": "2023-11-15T15:57:22.500Z"
   },
   {
    "duration": 55,
    "start_time": "2023-11-15T15:57:22.536Z"
   },
   {
    "duration": 150,
    "start_time": "2023-11-15T15:57:22.593Z"
   },
   {
    "duration": 49,
    "start_time": "2023-11-15T15:57:22.745Z"
   },
   {
    "duration": 151,
    "start_time": "2023-11-15T15:57:22.796Z"
   },
   {
    "duration": 182,
    "start_time": "2023-11-15T15:57:22.948Z"
   },
   {
    "duration": 6,
    "start_time": "2023-11-15T15:57:23.131Z"
   },
   {
    "duration": 40,
    "start_time": "2023-11-15T15:57:23.138Z"
   },
   {
    "duration": 4,
    "start_time": "2023-11-15T15:57:23.180Z"
   },
   {
    "duration": 361,
    "start_time": "2023-11-15T15:57:23.186Z"
   },
   {
    "duration": 354,
    "start_time": "2023-11-15T15:57:23.548Z"
   },
   {
    "duration": 403,
    "start_time": "2023-11-15T15:57:23.905Z"
   },
   {
    "duration": 567,
    "start_time": "2023-11-15T15:57:24.309Z"
   },
   {
    "duration": 615,
    "start_time": "2023-11-15T15:57:24.878Z"
   },
   {
    "duration": 577,
    "start_time": "2023-11-15T15:57:25.494Z"
   },
   {
    "duration": 2,
    "start_time": "2023-11-15T15:57:26.073Z"
   },
   {
    "duration": 28,
    "start_time": "2023-11-15T15:57:26.077Z"
   },
   {
    "duration": 14,
    "start_time": "2023-11-15T15:57:26.106Z"
   },
   {
    "duration": 14,
    "start_time": "2023-11-15T15:57:26.122Z"
   },
   {
    "duration": 2,
    "start_time": "2023-11-15T15:57:26.138Z"
   },
   {
    "duration": 26,
    "start_time": "2023-11-15T15:57:26.141Z"
   },
   {
    "duration": 37,
    "start_time": "2023-11-15T15:57:26.169Z"
   },
   {
    "duration": 2,
    "start_time": "2023-11-15T15:57:26.208Z"
   },
   {
    "duration": 126,
    "start_time": "2023-11-15T15:57:26.212Z"
   },
   {
    "duration": 137,
    "start_time": "2023-11-15T15:57:26.339Z"
   },
   {
    "duration": 92,
    "start_time": "2023-11-15T15:57:26.477Z"
   },
   {
    "duration": 4,
    "start_time": "2023-11-15T15:57:26.571Z"
   },
   {
    "duration": 4,
    "start_time": "2023-11-15T15:57:26.665Z"
   },
   {
    "duration": 4,
    "start_time": "2023-11-15T15:57:26.671Z"
   },
   {
    "duration": 22,
    "start_time": "2023-11-15T15:57:26.676Z"
   },
   {
    "duration": 3,
    "start_time": "2023-11-15T15:57:26.700Z"
   },
   {
    "duration": 5,
    "start_time": "2023-11-15T15:57:26.705Z"
   },
   {
    "duration": 3,
    "start_time": "2023-11-15T15:57:26.712Z"
   },
   {
    "duration": 52,
    "start_time": "2023-11-15T15:57:26.717Z"
   },
   {
    "duration": 1398,
    "start_time": "2023-11-15T15:57:26.771Z"
   },
   {
    "duration": 115,
    "start_time": "2023-11-15T15:57:28.171Z"
   },
   {
    "duration": 5,
    "start_time": "2023-11-15T15:57:52.949Z"
   },
   {
    "duration": 1369,
    "start_time": "2023-11-15T15:57:53.372Z"
   },
   {
    "duration": 9,
    "start_time": "2023-11-15T15:57:54.743Z"
   },
   {
    "duration": 4,
    "start_time": "2023-11-15T15:57:59.638Z"
   },
   {
    "duration": 1443,
    "start_time": "2023-11-15T15:57:59.962Z"
   },
   {
    "duration": 9,
    "start_time": "2023-11-15T15:58:01.407Z"
   },
   {
    "duration": 4,
    "start_time": "2023-11-15T15:58:08.550Z"
   },
   {
    "duration": 5,
    "start_time": "2023-11-15T15:58:13.676Z"
   },
   {
    "duration": 1396,
    "start_time": "2023-11-15T15:58:13.974Z"
   },
   {
    "duration": 4,
    "start_time": "2023-11-15T15:58:15.372Z"
   },
   {
    "duration": 5,
    "start_time": "2023-11-15T15:59:10.522Z"
   },
   {
    "duration": 4185,
    "start_time": "2023-11-15T15:59:11.019Z"
   },
   {
    "duration": 4,
    "start_time": "2023-11-15T15:59:15.714Z"
   },
   {
    "duration": 5,
    "start_time": "2023-11-15T15:59:52.322Z"
   },
   {
    "duration": 4,
    "start_time": "2023-11-15T16:00:31.322Z"
   },
   {
    "duration": 4,
    "start_time": "2023-11-15T16:00:46.941Z"
   },
   {
    "duration": 6,
    "start_time": "2023-11-15T16:00:57.554Z"
   },
   {
    "duration": 4,
    "start_time": "2023-11-15T16:01:11.737Z"
   },
   {
    "duration": 5,
    "start_time": "2023-11-15T16:01:24.911Z"
   },
   {
    "duration": 88,
    "start_time": "2023-11-15T16:01:52.267Z"
   },
   {
    "duration": 83,
    "start_time": "2023-11-15T16:01:57.228Z"
   },
   {
    "duration": 5,
    "start_time": "2023-11-15T16:02:06.591Z"
   },
   {
    "duration": 4,
    "start_time": "2023-11-15T16:02:24.307Z"
   },
   {
    "duration": 24,
    "start_time": "2023-11-15T16:03:35.573Z"
   },
   {
    "duration": 24,
    "start_time": "2023-11-15T16:04:08.649Z"
   },
   {
    "duration": 5,
    "start_time": "2023-11-15T16:04:22.176Z"
   },
   {
    "duration": 3,
    "start_time": "2023-11-15T16:04:26.498Z"
   },
   {
    "duration": 21,
    "start_time": "2023-11-15T16:04:48.445Z"
   },
   {
    "duration": 125,
    "start_time": "2023-11-15T16:05:38.900Z"
   },
   {
    "duration": 3,
    "start_time": "2023-11-15T16:05:43.944Z"
   },
   {
    "duration": 3,
    "start_time": "2023-11-15T16:06:02.278Z"
   },
   {
    "duration": 4,
    "start_time": "2023-11-15T16:06:13.438Z"
   },
   {
    "duration": 4,
    "start_time": "2023-11-15T16:06:35.042Z"
   },
   {
    "duration": 4,
    "start_time": "2023-11-15T16:07:05.546Z"
   },
   {
    "duration": 4,
    "start_time": "2023-11-15T16:07:15.659Z"
   },
   {
    "duration": 1571,
    "start_time": "2023-11-15T16:07:21.324Z"
   },
   {
    "duration": 468,
    "start_time": "2023-11-15T16:07:22.898Z"
   },
   {
    "duration": 41,
    "start_time": "2023-11-15T16:07:23.368Z"
   },
   {
    "duration": 65,
    "start_time": "2023-11-15T16:07:23.411Z"
   },
   {
    "duration": 191,
    "start_time": "2023-11-15T16:07:23.480Z"
   },
   {
    "duration": 39,
    "start_time": "2023-11-15T16:07:23.673Z"
   },
   {
    "duration": 199,
    "start_time": "2023-11-15T16:07:23.715Z"
   },
   {
    "duration": 220,
    "start_time": "2023-11-15T16:07:23.915Z"
   },
   {
    "duration": 8,
    "start_time": "2023-11-15T16:07:24.137Z"
   },
   {
    "duration": 18,
    "start_time": "2023-11-15T16:07:24.165Z"
   },
   {
    "duration": 3,
    "start_time": "2023-11-15T16:07:24.184Z"
   },
   {
    "duration": 382,
    "start_time": "2023-11-15T16:07:24.189Z"
   },
   {
    "duration": 356,
    "start_time": "2023-11-15T16:07:24.573Z"
   },
   {
    "duration": 488,
    "start_time": "2023-11-15T16:07:24.934Z"
   },
   {
    "duration": 604,
    "start_time": "2023-11-15T16:07:25.424Z"
   },
   {
    "duration": 652,
    "start_time": "2023-11-15T16:07:26.031Z"
   },
   {
    "duration": 613,
    "start_time": "2023-11-15T16:07:26.685Z"
   },
   {
    "duration": 2,
    "start_time": "2023-11-15T16:07:27.300Z"
   },
   {
    "duration": 21,
    "start_time": "2023-11-15T16:07:27.304Z"
   },
   {
    "duration": 16,
    "start_time": "2023-11-15T16:07:27.326Z"
   },
   {
    "duration": 34,
    "start_time": "2023-11-15T16:07:27.343Z"
   },
   {
    "duration": 3,
    "start_time": "2023-11-15T16:07:27.379Z"
   },
   {
    "duration": 7,
    "start_time": "2023-11-15T16:07:27.383Z"
   },
   {
    "duration": 38,
    "start_time": "2023-11-15T16:07:27.392Z"
   },
   {
    "duration": 2,
    "start_time": "2023-11-15T16:07:27.432Z"
   },
   {
    "duration": 131,
    "start_time": "2023-11-15T16:07:27.436Z"
   },
   {
    "duration": 204,
    "start_time": "2023-11-15T16:07:27.569Z"
   },
   {
    "duration": 92,
    "start_time": "2023-11-15T16:07:27.775Z"
   },
   {
    "duration": 4,
    "start_time": "2023-11-15T16:07:27.870Z"
   },
   {
    "duration": 14,
    "start_time": "2023-11-15T16:07:27.876Z"
   },
   {
    "duration": 10,
    "start_time": "2023-11-15T16:07:27.892Z"
   },
   {
    "duration": 67,
    "start_time": "2023-11-15T16:07:27.904Z"
   },
   {
    "duration": 3,
    "start_time": "2023-11-15T16:07:27.973Z"
   },
   {
    "duration": 10,
    "start_time": "2023-11-15T16:07:27.978Z"
   },
   {
    "duration": 4,
    "start_time": "2023-11-15T16:07:27.990Z"
   },
   {
    "duration": 11,
    "start_time": "2023-11-15T16:07:27.996Z"
   },
   {
    "duration": 4348,
    "start_time": "2023-11-15T16:07:28.009Z"
   },
   {
    "duration": 6,
    "start_time": "2023-11-15T16:07:32.359Z"
   },
   {
    "duration": 11,
    "start_time": "2023-11-15T16:07:32.367Z"
   },
   {
    "duration": 21,
    "start_time": "2023-11-15T16:07:32.380Z"
   },
   {
    "duration": 1745,
    "start_time": "2023-11-15T16:27:02.216Z"
   },
   {
    "duration": 453,
    "start_time": "2023-11-15T16:27:03.964Z"
   },
   {
    "duration": 35,
    "start_time": "2023-11-15T16:27:04.419Z"
   },
   {
    "duration": 58,
    "start_time": "2023-11-15T16:27:04.455Z"
   },
   {
    "duration": 191,
    "start_time": "2023-11-15T16:27:04.516Z"
   },
   {
    "duration": 32,
    "start_time": "2023-11-15T16:27:04.708Z"
   },
   {
    "duration": 180,
    "start_time": "2023-11-15T16:27:04.742Z"
   },
   {
    "duration": 185,
    "start_time": "2023-11-15T16:27:04.924Z"
   },
   {
    "duration": 6,
    "start_time": "2023-11-15T16:27:05.111Z"
   },
   {
    "duration": 19,
    "start_time": "2023-11-15T16:27:05.118Z"
   },
   {
    "duration": 28,
    "start_time": "2023-11-15T16:27:05.138Z"
   },
   {
    "duration": 370,
    "start_time": "2023-11-15T16:27:05.169Z"
   },
   {
    "duration": 367,
    "start_time": "2023-11-15T16:27:05.540Z"
   },
   {
    "duration": 433,
    "start_time": "2023-11-15T16:27:05.911Z"
   },
   {
    "duration": 610,
    "start_time": "2023-11-15T16:27:06.346Z"
   },
   {
    "duration": 645,
    "start_time": "2023-11-15T16:27:06.958Z"
   },
   {
    "duration": 610,
    "start_time": "2023-11-15T16:27:07.605Z"
   },
   {
    "duration": 2,
    "start_time": "2023-11-15T16:27:08.217Z"
   },
   {
    "duration": 16,
    "start_time": "2023-11-15T16:27:08.221Z"
   },
   {
    "duration": 39,
    "start_time": "2023-11-15T16:27:08.239Z"
   },
   {
    "duration": 15,
    "start_time": "2023-11-15T16:27:08.280Z"
   },
   {
    "duration": 3,
    "start_time": "2023-11-15T16:27:08.296Z"
   },
   {
    "duration": 6,
    "start_time": "2023-11-15T16:27:08.300Z"
   },
   {
    "duration": 48,
    "start_time": "2023-11-15T16:27:08.307Z"
   },
   {
    "duration": 17,
    "start_time": "2023-11-15T16:27:08.357Z"
   },
   {
    "duration": 121,
    "start_time": "2023-11-15T16:27:08.376Z"
   },
   {
    "duration": 166,
    "start_time": "2023-11-15T16:27:08.499Z"
   },
   {
    "duration": 7,
    "start_time": "2023-11-15T16:27:08.667Z"
   },
   {
    "duration": 90,
    "start_time": "2023-11-15T16:27:08.676Z"
   },
   {
    "duration": 4,
    "start_time": "2023-11-15T16:27:08.780Z"
   },
   {
    "duration": 7,
    "start_time": "2023-11-15T16:27:08.785Z"
   },
   {
    "duration": 25,
    "start_time": "2023-11-15T16:27:08.793Z"
   },
   {
    "duration": 4,
    "start_time": "2023-11-15T16:27:08.820Z"
   },
   {
    "duration": 7,
    "start_time": "2023-11-15T16:27:08.825Z"
   },
   {
    "duration": 3,
    "start_time": "2023-11-15T16:27:08.834Z"
   },
   {
    "duration": 6,
    "start_time": "2023-11-15T16:27:08.871Z"
   },
   {
    "duration": 4480,
    "start_time": "2023-11-15T16:27:08.879Z"
   },
   {
    "duration": 6,
    "start_time": "2023-11-15T16:27:13.361Z"
   },
   {
    "duration": 10,
    "start_time": "2023-11-15T16:27:13.369Z"
   },
   {
    "duration": 11,
    "start_time": "2023-11-15T16:27:13.381Z"
   },
   {
    "duration": 1518,
    "start_time": "2023-11-18T06:42:14.640Z"
   },
   {
    "duration": 1574,
    "start_time": "2023-11-18T06:42:16.161Z"
   },
   {
    "duration": 36,
    "start_time": "2023-11-18T06:42:17.737Z"
   },
   {
    "duration": 66,
    "start_time": "2023-11-18T06:42:17.775Z"
   },
   {
    "duration": 145,
    "start_time": "2023-11-18T06:42:17.843Z"
   },
   {
    "duration": 48,
    "start_time": "2023-11-18T06:42:17.990Z"
   },
   {
    "duration": 136,
    "start_time": "2023-11-18T06:42:18.039Z"
   },
   {
    "duration": 175,
    "start_time": "2023-11-18T06:42:18.177Z"
   },
   {
    "duration": 5,
    "start_time": "2023-11-18T06:42:18.354Z"
   },
   {
    "duration": 25,
    "start_time": "2023-11-18T06:42:18.361Z"
   },
   {
    "duration": 3,
    "start_time": "2023-11-18T06:42:18.388Z"
   },
   {
    "duration": 331,
    "start_time": "2023-11-18T06:42:18.393Z"
   },
   {
    "duration": 379,
    "start_time": "2023-11-18T06:42:18.730Z"
   },
   {
    "duration": 289,
    "start_time": "2023-11-18T06:42:19.112Z"
   },
   {
    "duration": 509,
    "start_time": "2023-11-18T06:42:19.403Z"
   },
   {
    "duration": 540,
    "start_time": "2023-11-18T06:42:19.914Z"
   },
   {
    "duration": 606,
    "start_time": "2023-11-18T06:42:20.456Z"
   },
   {
    "duration": 2,
    "start_time": "2023-11-18T06:42:21.064Z"
   },
   {
    "duration": 19,
    "start_time": "2023-11-18T06:42:21.068Z"
   },
   {
    "duration": 17,
    "start_time": "2023-11-18T06:42:21.089Z"
   },
   {
    "duration": 33,
    "start_time": "2023-11-18T06:42:21.107Z"
   },
   {
    "duration": 3,
    "start_time": "2023-11-18T06:42:21.141Z"
   },
   {
    "duration": 16,
    "start_time": "2023-11-18T06:42:21.145Z"
   },
   {
    "duration": 50,
    "start_time": "2023-11-18T06:42:21.162Z"
   },
   {
    "duration": 2,
    "start_time": "2023-11-18T06:42:21.213Z"
   },
   {
    "duration": 17,
    "start_time": "2023-11-18T06:42:21.217Z"
   },
   {
    "duration": 197,
    "start_time": "2023-11-18T06:42:21.236Z"
   },
   {
    "duration": 96,
    "start_time": "2023-11-18T06:42:21.435Z"
   },
   {
    "duration": 4,
    "start_time": "2023-11-18T06:42:21.533Z"
   },
   {
    "duration": 5,
    "start_time": "2023-11-18T06:42:21.539Z"
   },
   {
    "duration": 5,
    "start_time": "2023-11-18T06:42:21.631Z"
   },
   {
    "duration": 26,
    "start_time": "2023-11-18T06:42:21.638Z"
   },
   {
    "duration": 3,
    "start_time": "2023-11-18T06:42:21.666Z"
   },
   {
    "duration": 6,
    "start_time": "2023-11-18T06:42:21.670Z"
   },
   {
    "duration": 13,
    "start_time": "2023-11-18T06:42:21.677Z"
   },
   {
    "duration": 9,
    "start_time": "2023-11-18T06:42:21.692Z"
   },
   {
    "duration": 3700,
    "start_time": "2023-11-18T06:42:21.702Z"
   },
   {
    "duration": 3,
    "start_time": "2023-11-18T06:42:25.404Z"
   },
   {
    "duration": 5,
    "start_time": "2023-11-18T06:42:25.409Z"
   },
   {
    "duration": 16,
    "start_time": "2023-11-18T06:42:25.415Z"
   },
   {
    "duration": 25919,
    "start_time": "2023-11-18T06:43:26.939Z"
   },
   {
    "duration": 110,
    "start_time": "2023-11-18T06:43:57.165Z"
   },
   {
    "duration": 45,
    "start_time": "2023-11-18T06:44:30.178Z"
   },
   {
    "duration": 198606,
    "start_time": "2023-11-18T06:44:52.926Z"
   },
   {
    "duration": 27,
    "start_time": "2023-11-18T06:48:11.535Z"
   },
   {
    "duration": 0,
    "start_time": "2023-11-18T06:48:11.564Z"
   },
   {
    "duration": 1446,
    "start_time": "2023-11-18T06:48:19.791Z"
   },
   {
    "duration": 391,
    "start_time": "2023-11-18T06:48:21.239Z"
   },
   {
    "duration": 33,
    "start_time": "2023-11-18T06:48:21.632Z"
   },
   {
    "duration": 37,
    "start_time": "2023-11-18T06:48:21.667Z"
   },
   {
    "duration": 138,
    "start_time": "2023-11-18T06:48:21.731Z"
   },
   {
    "duration": 25,
    "start_time": "2023-11-18T06:48:21.871Z"
   },
   {
    "duration": 158,
    "start_time": "2023-11-18T06:48:21.898Z"
   },
   {
    "duration": 147,
    "start_time": "2023-11-18T06:48:22.057Z"
   },
   {
    "duration": 4,
    "start_time": "2023-11-18T06:48:22.206Z"
   },
   {
    "duration": 31,
    "start_time": "2023-11-18T06:48:22.212Z"
   },
   {
    "duration": 3,
    "start_time": "2023-11-18T06:48:22.245Z"
   },
   {
    "duration": 333,
    "start_time": "2023-11-18T06:48:22.249Z"
   },
   {
    "duration": 308,
    "start_time": "2023-11-18T06:48:22.584Z"
   },
   {
    "duration": 369,
    "start_time": "2023-11-18T06:48:22.895Z"
   },
   {
    "duration": 507,
    "start_time": "2023-11-18T06:48:23.266Z"
   },
   {
    "duration": 564,
    "start_time": "2023-11-18T06:48:23.774Z"
   },
   {
    "duration": 524,
    "start_time": "2023-11-18T06:48:24.339Z"
   },
   {
    "duration": 2,
    "start_time": "2023-11-18T06:48:24.865Z"
   },
   {
    "duration": 18,
    "start_time": "2023-11-18T06:48:24.868Z"
   },
   {
    "duration": 14,
    "start_time": "2023-11-18T06:48:24.887Z"
   },
   {
    "duration": 33,
    "start_time": "2023-11-18T06:48:24.902Z"
   },
   {
    "duration": 2581,
    "start_time": "2023-11-18T06:48:24.937Z"
   },
   {
    "duration": 64113,
    "start_time": "2023-11-18T06:48:27.520Z"
   },
   {
    "duration": 288,
    "start_time": "2023-11-18T06:49:31.636Z"
   },
   {
    "duration": 0,
    "start_time": "2023-11-18T06:49:31.925Z"
   },
   {
    "duration": 0,
    "start_time": "2023-11-18T06:49:31.931Z"
   },
   {
    "duration": 0,
    "start_time": "2023-11-18T06:49:31.932Z"
   },
   {
    "duration": 0,
    "start_time": "2023-11-18T06:49:31.933Z"
   },
   {
    "duration": 0,
    "start_time": "2023-11-18T06:49:31.934Z"
   },
   {
    "duration": 0,
    "start_time": "2023-11-18T06:49:31.934Z"
   },
   {
    "duration": 0,
    "start_time": "2023-11-18T06:49:31.935Z"
   },
   {
    "duration": 0,
    "start_time": "2023-11-18T06:49:31.936Z"
   },
   {
    "duration": 0,
    "start_time": "2023-11-18T06:49:31.938Z"
   },
   {
    "duration": 0,
    "start_time": "2023-11-18T06:49:31.939Z"
   },
   {
    "duration": 0,
    "start_time": "2023-11-18T06:49:31.940Z"
   },
   {
    "duration": 0,
    "start_time": "2023-11-18T06:49:31.941Z"
   },
   {
    "duration": 0,
    "start_time": "2023-11-18T06:49:31.942Z"
   },
   {
    "duration": 0,
    "start_time": "2023-11-18T06:49:31.943Z"
   },
   {
    "duration": 0,
    "start_time": "2023-11-18T06:49:31.944Z"
   },
   {
    "duration": 0,
    "start_time": "2023-11-18T06:49:31.945Z"
   },
   {
    "duration": 0,
    "start_time": "2023-11-18T06:49:31.946Z"
   },
   {
    "duration": 0,
    "start_time": "2023-11-18T06:49:31.947Z"
   },
   {
    "duration": 0,
    "start_time": "2023-11-18T06:49:31.948Z"
   },
   {
    "duration": 0,
    "start_time": "2023-11-18T06:49:31.949Z"
   },
   {
    "duration": 1359,
    "start_time": "2023-11-18T06:51:13.719Z"
   },
   {
    "duration": 391,
    "start_time": "2023-11-18T06:51:15.080Z"
   },
   {
    "duration": 31,
    "start_time": "2023-11-18T06:51:15.473Z"
   },
   {
    "duration": 61,
    "start_time": "2023-11-18T06:51:15.506Z"
   },
   {
    "duration": 137,
    "start_time": "2023-11-18T06:51:15.569Z"
   },
   {
    "duration": 42,
    "start_time": "2023-11-18T06:51:15.708Z"
   },
   {
    "duration": 145,
    "start_time": "2023-11-18T06:51:15.751Z"
   },
   {
    "duration": 159,
    "start_time": "2023-11-18T06:51:15.897Z"
   },
   {
    "duration": 4,
    "start_time": "2023-11-18T06:51:16.058Z"
   },
   {
    "duration": 23,
    "start_time": "2023-11-18T06:51:16.063Z"
   },
   {
    "duration": 2,
    "start_time": "2023-11-18T06:51:16.088Z"
   },
   {
    "duration": 327,
    "start_time": "2023-11-18T06:51:16.092Z"
   },
   {
    "duration": 322,
    "start_time": "2023-11-18T06:51:16.421Z"
   },
   {
    "duration": 368,
    "start_time": "2023-11-18T06:51:16.747Z"
   },
   {
    "duration": 530,
    "start_time": "2023-11-18T06:51:17.118Z"
   },
   {
    "duration": 593,
    "start_time": "2023-11-18T06:51:17.650Z"
   },
   {
    "duration": 520,
    "start_time": "2023-11-18T06:51:18.245Z"
   },
   {
    "duration": 3,
    "start_time": "2023-11-18T06:51:18.767Z"
   },
   {
    "duration": 21,
    "start_time": "2023-11-18T06:51:18.771Z"
   },
   {
    "duration": 13,
    "start_time": "2023-11-18T06:51:18.793Z"
   },
   {
    "duration": 33,
    "start_time": "2023-11-18T06:51:18.807Z"
   },
   {
    "duration": 2,
    "start_time": "2023-11-18T06:51:18.841Z"
   },
   {
    "duration": 5,
    "start_time": "2023-11-18T06:51:18.845Z"
   },
   {
    "duration": 40,
    "start_time": "2023-11-18T06:51:18.851Z"
   },
   {
    "duration": 3,
    "start_time": "2023-11-18T06:51:18.892Z"
   },
   {
    "duration": 120,
    "start_time": "2023-11-18T06:51:18.896Z"
   },
   {
    "duration": 215,
    "start_time": "2023-11-18T06:51:19.018Z"
   },
   {
    "duration": 96,
    "start_time": "2023-11-18T06:51:19.235Z"
   },
   {
    "duration": 4,
    "start_time": "2023-11-18T06:51:19.333Z"
   },
   {
    "duration": 93,
    "start_time": "2023-11-18T06:51:19.339Z"
   },
   {
    "duration": 13,
    "start_time": "2023-11-18T06:51:19.434Z"
   },
   {
    "duration": 26,
    "start_time": "2023-11-18T06:51:19.448Z"
   },
   {
    "duration": 3,
    "start_time": "2023-11-18T06:51:19.475Z"
   },
   {
    "duration": 26,
    "start_time": "2023-11-18T06:51:19.479Z"
   },
   {
    "duration": 4,
    "start_time": "2023-11-18T06:51:19.507Z"
   },
   {
    "duration": 7,
    "start_time": "2023-11-18T06:51:19.513Z"
   },
   {
    "duration": 3842,
    "start_time": "2023-11-18T06:51:19.522Z"
   },
   {
    "duration": 4,
    "start_time": "2023-11-18T06:51:23.366Z"
   },
   {
    "duration": 10,
    "start_time": "2023-11-18T06:51:23.371Z"
   },
   {
    "duration": 4,
    "start_time": "2023-11-18T06:51:23.383Z"
   }
  ],
  "kernelspec": {
   "display_name": "Python 3 (ipykernel)",
   "language": "python",
   "name": "python3"
  },
  "language_info": {
   "codemirror_mode": {
    "name": "ipython",
    "version": 3
   },
   "file_extension": ".py",
   "mimetype": "text/x-python",
   "name": "python",
   "nbconvert_exporter": "python",
   "pygments_lexer": "ipython3",
   "version": "3.11.5"
  },
  "toc": {
   "base_numbering": 1,
   "nav_menu": {},
   "number_sections": true,
   "sideBar": true,
   "skip_h1_title": true,
   "title_cell": "Table of Contents",
   "title_sidebar": "Contents",
   "toc_cell": false,
   "toc_position": {},
   "toc_section_display": true,
   "toc_window_display": false
  }
 },
 "nbformat": 4,
 "nbformat_minor": 2
}
